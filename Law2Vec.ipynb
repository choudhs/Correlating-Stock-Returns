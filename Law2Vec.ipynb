{
  "nbformat": 4,
  "nbformat_minor": 0,
  "metadata": {
    "colab": {
      "name": "Law2Vec.ipynb",
      "provenance": [],
      "include_colab_link": true
    },
    "kernelspec": {
      "name": "python3",
      "display_name": "Python 3"
    }
  },
  "cells": [
    {
      "cell_type": "markdown",
      "metadata": {
        "id": "view-in-github",
        "colab_type": "text"
      },
      "source": [
        "<a href=\"https://colab.research.google.com/github/choudhs/Correlating-Stock-Returns/blob/master/Law2Vec.ipynb\" target=\"_parent\"><img src=\"https://colab.research.google.com/assets/colab-badge.svg\" alt=\"Open In Colab\"/></a>"
      ]
    },
    {
      "cell_type": "code",
      "metadata": {
        "id": "uQ5F6OCmsJRJ",
        "outputId": "c1f18581-7349-4874-f035-f847eac75d8a",
        "colab": {
          "base_uri": "https://localhost:8080/",
          "height": 122
        }
      },
      "source": [
        "from google.colab import drive\n",
        "drive.mount('/content/drive', force_remount=True)"
      ],
      "execution_count": null,
      "outputs": [
        {
          "output_type": "stream",
          "text": [
            "Go to this URL in a browser: https://accounts.google.com/o/oauth2/auth?client_id=947318989803-6bn6qk8qdgf4n4g3pfee6491hc0brc4i.apps.googleusercontent.com&redirect_uri=urn%3aietf%3awg%3aoauth%3a2.0%3aoob&response_type=code&scope=email%20https%3a%2f%2fwww.googleapis.com%2fauth%2fdocs.test%20https%3a%2f%2fwww.googleapis.com%2fauth%2fdrive%20https%3a%2f%2fwww.googleapis.com%2fauth%2fdrive.photos.readonly%20https%3a%2f%2fwww.googleapis.com%2fauth%2fpeopleapi.readonly\n",
            "\n",
            "Enter your authorization code:\n",
            "··········\n",
            "Mounted at /content/drive\n"
          ],
          "name": "stdout"
        }
      ]
    },
    {
      "cell_type": "code",
      "metadata": {
        "id": "PTy7tpHesYCk",
        "outputId": "9a759db7-f3a3-4f88-b5c4-0dc364a6e855",
        "colab": {
          "base_uri": "https://localhost:8080/",
          "height": 34
        }
      },
      "source": [
        "ls"
      ],
      "execution_count": null,
      "outputs": [
        {
          "output_type": "stream",
          "text": [
            "\u001b[0m\u001b[01;34mdrive\u001b[0m/  \u001b[01;34msample_data\u001b[0m/\n"
          ],
          "name": "stdout"
        }
      ]
    },
    {
      "cell_type": "code",
      "metadata": {
        "id": "SoNDvCZSsd5G",
        "outputId": "76d6a4c5-7e41-41d4-9033-74c1bd952b06",
        "colab": {
          "base_uri": "https://localhost:8080/",
          "height": 34
        }
      },
      "source": [
        "cd drive/My\\ Drive"
      ],
      "execution_count": null,
      "outputs": [
        {
          "output_type": "stream",
          "text": [
            "/content/drive/My Drive\n"
          ],
          "name": "stdout"
        }
      ]
    },
    {
      "cell_type": "code",
      "metadata": {
        "id": "43_8CgwDsgh_",
        "outputId": "f7ff218b-8f5b-461c-b778-b00bca953c36",
        "colab": {
          "base_uri": "https://localhost:8080/",
          "height": 34
        }
      },
      "source": [
        "cd AiLanthus\\ SAAS\\ DC\\ Project"
      ],
      "execution_count": null,
      "outputs": [
        {
          "output_type": "stream",
          "text": [
            "/content/drive/My Drive/AiLanthus SAAS DC Project\n"
          ],
          "name": "stdout"
        }
      ]
    },
    {
      "cell_type": "code",
      "metadata": {
        "id": "fed2OoQOvhZs",
        "outputId": "34fa814b-b0be-48c7-9921-11d5047e019a",
        "colab": {
          "base_uri": "https://localhost:8080/",
          "height": 139
        }
      },
      "source": [
        "from gensim.models import Word2Vec\n",
        "from datascience import * \n",
        "import numpy as np\n",
        "import matplotlib.pyplot as plt\n",
        "import pandas as pd\n",
        "import nltk\n",
        "import regex as re\n",
        "import gensim\n",
        "import seaborn as sns\n",
        "from scipy.stats import chisquare, ks_2samp\n",
        "%matplotlib inline"
      ],
      "execution_count": null,
      "outputs": [
        {
          "output_type": "stream",
          "text": [
            "/usr/local/lib/python3.6/dist-packages/datascience/tables.py:17: MatplotlibDeprecationWarning: The 'warn' parameter of use() is deprecated since Matplotlib 3.1 and will be removed in 3.3.  If any parameter follows 'warn', they should be pass as keyword, not positionally.\n",
            "  matplotlib.use('agg', warn=False)\n",
            "/usr/local/lib/python3.6/dist-packages/datascience/util.py:10: MatplotlibDeprecationWarning: The 'warn' parameter of use() is deprecated since Matplotlib 3.1 and will be removed in 3.3.  If any parameter follows 'warn', they should be pass as keyword, not positionally.\n",
            "  matplotlib.use('agg', warn=False)\n",
            "/usr/local/lib/python3.6/dist-packages/statsmodels/tools/_testing.py:19: FutureWarning: pandas.util.testing is deprecated. Use the functions in the public API at pandas.testing instead.\n",
            "  import pandas.util.testing as tm\n"
          ],
          "name": "stderr"
        }
      ]
    },
    {
      "cell_type": "code",
      "metadata": {
        "id": "x8quXiBJy8My"
      },
      "source": [
        "from gensim.models import KeyedVectors\n",
        "from gensim.scripts.glove2word2vec import glove2word2vec\n",
        "import warnings\n",
        "warnings.filterwarnings(\"ignore\",category=DeprecationWarning)"
      ],
      "execution_count": null,
      "outputs": []
    },
    {
      "cell_type": "code",
      "metadata": {
        "id": "6mqa9pyqYNjQ",
        "outputId": "bc9370bb-3e83-43b1-e4bd-446570a28215",
        "colab": {
          "base_uri": "https://localhost:8080/",
          "height": 105
        }
      },
      "source": [
        "from gensim.models.word2vec import Word2Vec\n",
        "from nltk.corpus import stopwords\n",
        "from sklearn.feature_extraction.text import CountVectorizer\n",
        "from sklearn import tree\n",
        "from sklearn.model_selection import train_test_split\n",
        "from sklearn.metrics import accuracy_score, precision_score, recall_score, f1_score, log_loss, mean_absolute_error\n",
        "from sklearn.utils import check_array\n",
        "from sklearn import metrics\n",
        "from sklearn.model_selection import cross_val_score\n",
        "from sklearn.ensemble import RandomForestRegressor\n",
        "from sklearn.linear_model import LogisticRegression\n",
        "from sklearn.model_selection import train_test_split\n",
        "from sklearn.metrics import roc_auc_score\n",
        "from sklearn.metrics import roc_curve\n",
        "from sklearn.tree import export_graphviz\n",
        "from IPython.display import Image\n",
        "from imblearn.over_sampling import SMOTE\n",
        "from imblearn.under_sampling import RandomUnderSampler\n",
        "from imblearn.under_sampling import ClusterCentroids\n",
        "import pydot"
      ],
      "execution_count": null,
      "outputs": [
        {
          "output_type": "stream",
          "text": [
            "/usr/local/lib/python3.6/dist-packages/sklearn/externals/six.py:31: FutureWarning: The module is deprecated in version 0.21 and will be removed in version 0.23 since we've dropped support for Python 2.7. Please rely on the official version of six (https://pypi.org/project/six/).\n",
            "  \"(https://pypi.org/project/six/).\", FutureWarning)\n",
            "/usr/local/lib/python3.6/dist-packages/sklearn/utils/deprecation.py:144: FutureWarning: The sklearn.neighbors.base module is  deprecated in version 0.22 and will be removed in version 0.24. The corresponding classes / functions should instead be imported from sklearn.neighbors. Anything that cannot be imported from sklearn.neighbors is now part of the private API.\n",
            "  warnings.warn(message, FutureWarning)\n"
          ],
          "name": "stderr"
        }
      ]
    },
    {
      "cell_type": "code",
      "metadata": {
        "id": "zleX3JdeN3UB",
        "outputId": "bc56a993-d91e-4488-a753-d73bf6d88189",
        "colab": {
          "base_uri": "https://localhost:8080/",
          "height": 68
        }
      },
      "source": [
        "nltk.download('stopwords')"
      ],
      "execution_count": null,
      "outputs": [
        {
          "output_type": "stream",
          "text": [
            "[nltk_data] Downloading package stopwords to /root/nltk_data...\n",
            "[nltk_data]   Unzipping corpora/stopwords.zip.\n"
          ],
          "name": "stdout"
        },
        {
          "output_type": "execute_result",
          "data": {
            "text/plain": [
              "True"
            ]
          },
          "metadata": {
            "tags": []
          },
          "execution_count": 8
        }
      ]
    },
    {
      "cell_type": "code",
      "metadata": {
        "id": "TTwmm5f56sad",
        "outputId": "9a397ef2-e7ca-4f0d-9e05-df6f0affdc55",
        "colab": {
          "base_uri": "https://localhost:8080/",
          "height": 71
        }
      },
      "source": [
        "glove_input_file = \"/content/drive/My Drive/AiLanthus SAAS DC Project/data/vectors/law2vec.200d.txt\"\n",
        "word2vec_output_file = 'law2vec.200d.txt.word2vec'\n",
        "glove2word2vec(glove_input_file, word2vec_output_file)\n",
        "filename = \"/content/drive/My Drive/AiLanthus SAAS DC Project/law2vec.200d.txt.word2vec\"\n",
        "model = KeyedVectors.load_word2vec_format(filename, binary=False)"
      ],
      "execution_count": null,
      "outputs": [
        {
          "output_type": "stream",
          "text": [
            "/usr/local/lib/python3.6/dist-packages/smart_open/smart_open_lib.py:253: UserWarning: This function is deprecated, use smart_open.open instead. See the migration notes for details: https://github.com/RaRe-Technologies/smart_open/blob/master/README.rst#migrating-to-the-new-open-function\n",
            "  'See the migration notes for details: %s' % _MIGRATION_NOTES_URL\n"
          ],
          "name": "stderr"
        }
      ]
    },
    {
      "cell_type": "markdown",
      "metadata": {
        "id": "_gNHc9jMcDh7"
      },
      "source": [
        "# Setting Up"
      ]
    },
    {
      "cell_type": "code",
      "metadata": {
        "id": "DifMsEwJ4giv",
        "outputId": "a659692d-d5b1-4fbc-e1ec-d2eb783f7976",
        "colab": {
          "base_uri": "https://localhost:8080/",
          "height": 717
        }
      },
      "source": [
        "data = pd.read_csv('fullMerged.csv')\n",
        "data = data[data['Patent Text'].notnull()]\n",
        "data.head()"
      ],
      "execution_count": null,
      "outputs": [
        {
          "output_type": "execute_result",
          "data": {
            "text/html": [
              "<div>\n",
              "<style scoped>\n",
              "    .dataframe tbody tr th:only-of-type {\n",
              "        vertical-align: middle;\n",
              "    }\n",
              "\n",
              "    .dataframe tbody tr th {\n",
              "        vertical-align: top;\n",
              "    }\n",
              "\n",
              "    .dataframe thead th {\n",
              "        text-align: right;\n",
              "    }\n",
              "</style>\n",
              "<table border=\"1\" class=\"dataframe\">\n",
              "  <thead>\n",
              "    <tr style=\"text-align: right;\">\n",
              "      <th></th>\n",
              "      <th>Case_name</th>\n",
              "      <th>Case_number</th>\n",
              "      <th>Court</th>\n",
              "      <th>Patent/Application</th>\n",
              "      <th>Claims</th>\n",
              "      <th>Eligibility_under_§_101_(abstract)</th>\n",
              "      <th>Eligiblity_under_§_103</th>\n",
              "      <th>Date</th>\n",
              "      <th>Rationale</th>\n",
              "      <th>Fenwick_Coding</th>\n",
              "      <th>1st Patent Eligibility 101</th>\n",
              "      <th>1st Patent Algorithm</th>\n",
              "      <th>Test Result</th>\n",
              "      <th>Invalid False Positive</th>\n",
              "      <th>Invalid True Positive</th>\n",
              "      <th>Invalid False Negative</th>\n",
              "      <th>Invalid True Negative</th>\n",
              "      <th>Valid False Positive</th>\n",
              "      <th>Valid True Positive</th>\n",
              "      <th>Valid False Negative</th>\n",
              "      <th>Kind Code</th>\n",
              "      <th>Party 1</th>\n",
              "      <th>Party 2</th>\n",
              "      <th>w_US</th>\n",
              "      <th>Heading Text</th>\n",
              "      <th>Number of headings</th>\n",
              "      <th>DETAILED in heading</th>\n",
              "      <th>Patent Text</th>\n",
              "      <th>Number of Paragraphs</th>\n",
              "      <th>Figure Count</th>\n",
              "      <th>Digit/Decimal Count</th>\n",
              "      <th>Excluding Phrase Count</th>\n",
              "      <th>Semicolon Count</th>\n",
              "      <th>Number of Backward Citations</th>\n",
              "      <th>Number of Forward Citations</th>\n",
              "      <th>Wherein Count</th>\n",
              "      <th>Said Count</th>\n",
              "      <th>Examiner Name</th>\n",
              "      <th>Examiner Rate</th>\n",
              "      <th>Examiner Count</th>\n",
              "    </tr>\n",
              "  </thead>\n",
              "  <tbody>\n",
              "    <tr>\n",
              "      <th>0</th>\n",
              "      <td>ULTRAMERCIAL, INC., AND ULTRAMERCIAL, LLC,</td>\n",
              "      <td>2010-1544</td>\n",
              "      <td>Court of Appeals</td>\n",
              "      <td>7346545</td>\n",
              "      <td>ULTRAMERCIAL, INC., AND ULTRAMERCIAL, LLC,</td>\n",
              "      <td>0.0</td>\n",
              "      <td>NaN</td>\n",
              "      <td>10/14/2014</td>\n",
              "      <td>Abstract</td>\n",
              "      <td>Abstract Idea: An Idea of Itself</td>\n",
              "      <td>No</td>\n",
              "      <td>No</td>\n",
              "      <td>PASS</td>\n",
              "      <td>No</td>\n",
              "      <td>Yes</td>\n",
              "      <td>No</td>\n",
              "      <td>No</td>\n",
              "      <td>No</td>\n",
              "      <td>No</td>\n",
              "      <td>No</td>\n",
              "      <td>NaN</td>\n",
              "      <td>ULTRAMERCIAL, INC.</td>\n",
              "      <td>ULTRAMERCIAL, LLC,</td>\n",
              "      <td>US7346545</td>\n",
              "      <td>CLAIM OF PRIORITY-Heading-BACKGROUND OF THE IN...</td>\n",
              "      <td>5</td>\n",
              "      <td>1</td>\n",
              "      <td>The present application claims the benefit of ...</td>\n",
              "      <td>64</td>\n",
              "      <td>17</td>\n",
              "      <td>189</td>\n",
              "      <td>332</td>\n",
              "      <td>28</td>\n",
              "      <td>NaN</td>\n",
              "      <td>859412202.0</td>\n",
              "      <td>1.0</td>\n",
              "      <td>18.0</td>\n",
              "      <td>ROBERT POND</td>\n",
              "      <td>0.849624</td>\n",
              "      <td>2660.0</td>\n",
              "    </tr>\n",
              "    <tr>\n",
              "      <th>1</th>\n",
              "      <td>Hikansut LLC, v. United States</td>\n",
              "      <td>COFC-1-12-cv-00303</td>\n",
              "      <td>In the United States Court of Federal Claims</td>\n",
              "      <td>7175722</td>\n",
              "      <td>Hikansut LLC, v. United States</td>\n",
              "      <td>1.0</td>\n",
              "      <td>NaN</td>\n",
              "      <td>10/18/2016</td>\n",
              "      <td>Not Abstract</td>\n",
              "      <td>Not Abstract</td>\n",
              "      <td>Yes</td>\n",
              "      <td>Yes</td>\n",
              "      <td>PASS</td>\n",
              "      <td>No</td>\n",
              "      <td>No</td>\n",
              "      <td>No</td>\n",
              "      <td>Yes</td>\n",
              "      <td>No</td>\n",
              "      <td>Yes</td>\n",
              "      <td>No</td>\n",
              "      <td>NaN</td>\n",
              "      <td>Hikansut LLC,</td>\n",
              "      <td>United States</td>\n",
              "      <td>US7175722</td>\n",
              "      <td>REFERENCE TO RELATED APPLICATION-Heading-FIELD...</td>\n",
              "      <td>6</td>\n",
              "      <td>1</td>\n",
              "      <td>This application claims priority to and the be...</td>\n",
              "      <td>94</td>\n",
              "      <td>48</td>\n",
              "      <td>481</td>\n",
              "      <td>729</td>\n",
              "      <td>13</td>\n",
              "      <td>NaN</td>\n",
              "      <td>975444364.0</td>\n",
              "      <td>36.0</td>\n",
              "      <td>0.0</td>\n",
              "      <td>SIKYIN IP</td>\n",
              "      <td>0.883900</td>\n",
              "      <td>7149.0</td>\n",
              "    </tr>\n",
              "    <tr>\n",
              "      <th>2</th>\n",
              "      <td>Tenon &amp; Groove, LLC, v. Plusgrade S.E.C.</td>\n",
              "      <td>12-1118-GMS-SRF</td>\n",
              "      <td>IN THE UNITED STATES DISTRICT COURT\\n FOR THE ...</td>\n",
              "      <td>7418409</td>\n",
              "      <td>Tenon &amp; Groove, LLC, v. Plusgrade S.E.C.</td>\n",
              "      <td>0.0</td>\n",
              "      <td>NaN</td>\n",
              "      <td>03/03/2015</td>\n",
              "      <td>Abstract</td>\n",
              "      <td>Abstract Idea: Implemented on Generic Computer</td>\n",
              "      <td>No</td>\n",
              "      <td>No</td>\n",
              "      <td>PASS</td>\n",
              "      <td>No</td>\n",
              "      <td>Yes</td>\n",
              "      <td>No</td>\n",
              "      <td>No</td>\n",
              "      <td>No</td>\n",
              "      <td>No</td>\n",
              "      <td>No</td>\n",
              "      <td>NaN</td>\n",
              "      <td>Tenon &amp; Groove, LLC,</td>\n",
              "      <td>Plusgrade S.E.C.</td>\n",
              "      <td>US7418409</td>\n",
              "      <td>CROSS-REFERENCE TO RELATED APPLICATION AND PRI...</td>\n",
              "      <td>12</td>\n",
              "      <td>1</td>\n",
              "      <td>Applicant hereby claims the benefit, under 35 ...</td>\n",
              "      <td>227</td>\n",
              "      <td>84</td>\n",
              "      <td>599</td>\n",
              "      <td>1247</td>\n",
              "      <td>43</td>\n",
              "      <td>NaN</td>\n",
              "      <td>806557070.0</td>\n",
              "      <td>2.0</td>\n",
              "      <td>2.0</td>\n",
              "      <td>WILLIAM ALLEN</td>\n",
              "      <td>0.861180</td>\n",
              "      <td>2406.0</td>\n",
              "    </tr>\n",
              "    <tr>\n",
              "      <th>3</th>\n",
              "      <td>Tenon &amp; Groove, LLC, v. Plusgrade S.E.C.</td>\n",
              "      <td>12-1118-GMS-SRF</td>\n",
              "      <td>IN THE UNITED STATES DISTRICT COURT\\n FOR THE ...</td>\n",
              "      <td>8145536</td>\n",
              "      <td>Tenon &amp; Groove, LLC, v. Plusgrade S.E.C.</td>\n",
              "      <td>0.0</td>\n",
              "      <td>NaN</td>\n",
              "      <td>03/03/2015</td>\n",
              "      <td>Abstract</td>\n",
              "      <td>Abstract Idea: Implemented on Generic Computer</td>\n",
              "      <td>No</td>\n",
              "      <td>No</td>\n",
              "      <td>PASS</td>\n",
              "      <td>No</td>\n",
              "      <td>Yes</td>\n",
              "      <td>No</td>\n",
              "      <td>No</td>\n",
              "      <td>No</td>\n",
              "      <td>No</td>\n",
              "      <td>No</td>\n",
              "      <td>NaN</td>\n",
              "      <td>Tenon &amp; Groove, LLC,</td>\n",
              "      <td>Plusgrade S.E.C.</td>\n",
              "      <td>US8145536</td>\n",
              "      <td>CROSS-REFERENCE TO RELATED APPLICATIONS AND PR...</td>\n",
              "      <td>6</td>\n",
              "      <td>1</td>\n",
              "      <td>This application is a continuation-in-part, an...</td>\n",
              "      <td>1334</td>\n",
              "      <td>356</td>\n",
              "      <td>3488</td>\n",
              "      <td>11766</td>\n",
              "      <td>188</td>\n",
              "      <td>NaN</td>\n",
              "      <td>NaN</td>\n",
              "      <td>48.0</td>\n",
              "      <td>810.0</td>\n",
              "      <td>WILLIAM ALLEN</td>\n",
              "      <td>0.861180</td>\n",
              "      <td>2406.0</td>\n",
              "    </tr>\n",
              "    <tr>\n",
              "      <th>4</th>\n",
              "      <td>PricePlay.com, v. AOL Advertising, Inc.</td>\n",
              "      <td>14-92-RGA</td>\n",
              "      <td>IN THE UNITED STATES DISTRICT COURT\\n FOR THE ...</td>\n",
              "      <td>8050982</td>\n",
              "      <td>PricePlay.com, v. AOL Advertising, Inc.</td>\n",
              "      <td>0.0</td>\n",
              "      <td>NaN</td>\n",
              "      <td>03/10/2015</td>\n",
              "      <td>Abstract</td>\n",
              "      <td>Abstract Idea: Implemented on Generic Computer</td>\n",
              "      <td>No</td>\n",
              "      <td>Yes</td>\n",
              "      <td>FAIL</td>\n",
              "      <td>No</td>\n",
              "      <td>No</td>\n",
              "      <td>Yes</td>\n",
              "      <td>No</td>\n",
              "      <td>Yes</td>\n",
              "      <td>No</td>\n",
              "      <td>No</td>\n",
              "      <td>NaN</td>\n",
              "      <td>PricePlay.com,</td>\n",
              "      <td>AOL Advertising, Inc.</td>\n",
              "      <td>US8050982</td>\n",
              "      <td>RELATED APPLICATIONS-Heading-FIELD OF THE INVE...</td>\n",
              "      <td>6</td>\n",
              "      <td>1</td>\n",
              "      <td>This application is a continuation-in-part of ...</td>\n",
              "      <td>91</td>\n",
              "      <td>11</td>\n",
              "      <td>212</td>\n",
              "      <td>485</td>\n",
              "      <td>42</td>\n",
              "      <td>NaN</td>\n",
              "      <td>NaN</td>\n",
              "      <td>7.0</td>\n",
              "      <td>9.0</td>\n",
              "      <td>MICHAEL MISIASZEK</td>\n",
              "      <td>0.839420</td>\n",
              "      <td>1862.0</td>\n",
              "    </tr>\n",
              "  </tbody>\n",
              "</table>\n",
              "</div>"
            ],
            "text/plain": [
              "                                    Case_name  ... Examiner Count\n",
              "0  ULTRAMERCIAL, INC., AND ULTRAMERCIAL, LLC,  ...         2660.0\n",
              "1              Hikansut LLC, v. United States  ...         7149.0\n",
              "2    Tenon & Groove, LLC, v. Plusgrade S.E.C.  ...         2406.0\n",
              "3    Tenon & Groove, LLC, v. Plusgrade S.E.C.  ...         2406.0\n",
              "4     PricePlay.com, v. AOL Advertising, Inc.  ...         1862.0\n",
              "\n",
              "[5 rows x 40 columns]"
            ]
          },
          "metadata": {
            "tags": []
          },
          "execution_count": 10
        }
      ]
    },
    {
      "cell_type": "code",
      "metadata": {
        "id": "YZS2W12_M1Xs"
      },
      "source": [
        "stop_words = set(stopwords.words('english'))\n",
        "patent_texts = data['Patent Text'].values.tolist()\n",
        "patent_texts = [re.sub(r\"\\s+\", ' ', sent) for sent in patent_texts] # Remove new line characters\n",
        "patent_texts = [re.sub(\"\\'\", \"\", sent) for sent in patent_texts] # Remove distracting single quotes"
      ],
      "execution_count": null,
      "outputs": []
    },
    {
      "cell_type": "code",
      "metadata": {
        "id": "e3rZQSxvNycz"
      },
      "source": [
        "def sent_to_words(sentences):\n",
        "    for sentence in sentences:\n",
        "        yield(gensim.utils.simple_preprocess(str(sentence), deacc=True))  # deacc=True removes punctuations\n",
        "data_words = list(sent_to_words(patent_texts))"
      ],
      "execution_count": null,
      "outputs": []
    },
    {
      "cell_type": "code",
      "metadata": {
        "id": "-S-eYYLoOF0q"
      },
      "source": [
        "data['Pre-processed Text'] = data_words"
      ],
      "execution_count": null,
      "outputs": []
    },
    {
      "cell_type": "code",
      "metadata": {
        "id": "2mgKhxrcOSgt",
        "outputId": "2ad54eed-2926-4824-d21d-3866ca7117cf",
        "colab": {
          "base_uri": "https://localhost:8080/",
          "height": 717
        }
      },
      "source": [
        "data.head()"
      ],
      "execution_count": null,
      "outputs": [
        {
          "output_type": "execute_result",
          "data": {
            "text/html": [
              "<div>\n",
              "<style scoped>\n",
              "    .dataframe tbody tr th:only-of-type {\n",
              "        vertical-align: middle;\n",
              "    }\n",
              "\n",
              "    .dataframe tbody tr th {\n",
              "        vertical-align: top;\n",
              "    }\n",
              "\n",
              "    .dataframe thead th {\n",
              "        text-align: right;\n",
              "    }\n",
              "</style>\n",
              "<table border=\"1\" class=\"dataframe\">\n",
              "  <thead>\n",
              "    <tr style=\"text-align: right;\">\n",
              "      <th></th>\n",
              "      <th>Case_name</th>\n",
              "      <th>Case_number</th>\n",
              "      <th>Court</th>\n",
              "      <th>Patent/Application</th>\n",
              "      <th>Claims</th>\n",
              "      <th>Eligibility_under_§_101_(abstract)</th>\n",
              "      <th>Eligiblity_under_§_103</th>\n",
              "      <th>Date</th>\n",
              "      <th>Rationale</th>\n",
              "      <th>Fenwick_Coding</th>\n",
              "      <th>1st Patent Eligibility 101</th>\n",
              "      <th>1st Patent Algorithm</th>\n",
              "      <th>Test Result</th>\n",
              "      <th>Invalid False Positive</th>\n",
              "      <th>Invalid True Positive</th>\n",
              "      <th>Invalid False Negative</th>\n",
              "      <th>Invalid True Negative</th>\n",
              "      <th>Valid False Positive</th>\n",
              "      <th>Valid True Positive</th>\n",
              "      <th>Valid False Negative</th>\n",
              "      <th>Kind Code</th>\n",
              "      <th>Party 1</th>\n",
              "      <th>Party 2</th>\n",
              "      <th>w_US</th>\n",
              "      <th>Heading Text</th>\n",
              "      <th>Number of headings</th>\n",
              "      <th>DETAILED in heading</th>\n",
              "      <th>Patent Text</th>\n",
              "      <th>Number of Paragraphs</th>\n",
              "      <th>Figure Count</th>\n",
              "      <th>Digit/Decimal Count</th>\n",
              "      <th>Excluding Phrase Count</th>\n",
              "      <th>Semicolon Count</th>\n",
              "      <th>Number of Backward Citations</th>\n",
              "      <th>Number of Forward Citations</th>\n",
              "      <th>Wherein Count</th>\n",
              "      <th>Said Count</th>\n",
              "      <th>Examiner Name</th>\n",
              "      <th>Examiner Rate</th>\n",
              "      <th>Examiner Count</th>\n",
              "      <th>Pre-processed Text</th>\n",
              "    </tr>\n",
              "  </thead>\n",
              "  <tbody>\n",
              "    <tr>\n",
              "      <th>0</th>\n",
              "      <td>ULTRAMERCIAL, INC., AND ULTRAMERCIAL, LLC,</td>\n",
              "      <td>2010-1544</td>\n",
              "      <td>Court of Appeals</td>\n",
              "      <td>7346545</td>\n",
              "      <td>ULTRAMERCIAL, INC., AND ULTRAMERCIAL, LLC,</td>\n",
              "      <td>0.0</td>\n",
              "      <td>NaN</td>\n",
              "      <td>10/14/2014</td>\n",
              "      <td>Abstract</td>\n",
              "      <td>Abstract Idea: An Idea of Itself</td>\n",
              "      <td>No</td>\n",
              "      <td>No</td>\n",
              "      <td>PASS</td>\n",
              "      <td>No</td>\n",
              "      <td>Yes</td>\n",
              "      <td>No</td>\n",
              "      <td>No</td>\n",
              "      <td>No</td>\n",
              "      <td>No</td>\n",
              "      <td>No</td>\n",
              "      <td>NaN</td>\n",
              "      <td>ULTRAMERCIAL, INC.</td>\n",
              "      <td>ULTRAMERCIAL, LLC,</td>\n",
              "      <td>US7346545</td>\n",
              "      <td>CLAIM OF PRIORITY-Heading-BACKGROUND OF THE IN...</td>\n",
              "      <td>5</td>\n",
              "      <td>1</td>\n",
              "      <td>The present application claims the benefit of ...</td>\n",
              "      <td>64</td>\n",
              "      <td>17</td>\n",
              "      <td>189</td>\n",
              "      <td>332</td>\n",
              "      <td>28</td>\n",
              "      <td>NaN</td>\n",
              "      <td>859412202.0</td>\n",
              "      <td>1.0</td>\n",
              "      <td>18.0</td>\n",
              "      <td>ROBERT POND</td>\n",
              "      <td>0.849624</td>\n",
              "      <td>2660.0</td>\n",
              "      <td>[the, present, application, claims, the, benef...</td>\n",
              "    </tr>\n",
              "    <tr>\n",
              "      <th>1</th>\n",
              "      <td>Hikansut LLC, v. United States</td>\n",
              "      <td>COFC-1-12-cv-00303</td>\n",
              "      <td>In the United States Court of Federal Claims</td>\n",
              "      <td>7175722</td>\n",
              "      <td>Hikansut LLC, v. United States</td>\n",
              "      <td>1.0</td>\n",
              "      <td>NaN</td>\n",
              "      <td>10/18/2016</td>\n",
              "      <td>Not Abstract</td>\n",
              "      <td>Not Abstract</td>\n",
              "      <td>Yes</td>\n",
              "      <td>Yes</td>\n",
              "      <td>PASS</td>\n",
              "      <td>No</td>\n",
              "      <td>No</td>\n",
              "      <td>No</td>\n",
              "      <td>Yes</td>\n",
              "      <td>No</td>\n",
              "      <td>Yes</td>\n",
              "      <td>No</td>\n",
              "      <td>NaN</td>\n",
              "      <td>Hikansut LLC,</td>\n",
              "      <td>United States</td>\n",
              "      <td>US7175722</td>\n",
              "      <td>REFERENCE TO RELATED APPLICATION-Heading-FIELD...</td>\n",
              "      <td>6</td>\n",
              "      <td>1</td>\n",
              "      <td>This application claims priority to and the be...</td>\n",
              "      <td>94</td>\n",
              "      <td>48</td>\n",
              "      <td>481</td>\n",
              "      <td>729</td>\n",
              "      <td>13</td>\n",
              "      <td>NaN</td>\n",
              "      <td>975444364.0</td>\n",
              "      <td>36.0</td>\n",
              "      <td>0.0</td>\n",
              "      <td>SIKYIN IP</td>\n",
              "      <td>0.883900</td>\n",
              "      <td>7149.0</td>\n",
              "      <td>[this, application, claims, priority, to, and,...</td>\n",
              "    </tr>\n",
              "    <tr>\n",
              "      <th>2</th>\n",
              "      <td>Tenon &amp; Groove, LLC, v. Plusgrade S.E.C.</td>\n",
              "      <td>12-1118-GMS-SRF</td>\n",
              "      <td>IN THE UNITED STATES DISTRICT COURT\\n FOR THE ...</td>\n",
              "      <td>7418409</td>\n",
              "      <td>Tenon &amp; Groove, LLC, v. Plusgrade S.E.C.</td>\n",
              "      <td>0.0</td>\n",
              "      <td>NaN</td>\n",
              "      <td>03/03/2015</td>\n",
              "      <td>Abstract</td>\n",
              "      <td>Abstract Idea: Implemented on Generic Computer</td>\n",
              "      <td>No</td>\n",
              "      <td>No</td>\n",
              "      <td>PASS</td>\n",
              "      <td>No</td>\n",
              "      <td>Yes</td>\n",
              "      <td>No</td>\n",
              "      <td>No</td>\n",
              "      <td>No</td>\n",
              "      <td>No</td>\n",
              "      <td>No</td>\n",
              "      <td>NaN</td>\n",
              "      <td>Tenon &amp; Groove, LLC,</td>\n",
              "      <td>Plusgrade S.E.C.</td>\n",
              "      <td>US7418409</td>\n",
              "      <td>CROSS-REFERENCE TO RELATED APPLICATION AND PRI...</td>\n",
              "      <td>12</td>\n",
              "      <td>1</td>\n",
              "      <td>Applicant hereby claims the benefit, under 35 ...</td>\n",
              "      <td>227</td>\n",
              "      <td>84</td>\n",
              "      <td>599</td>\n",
              "      <td>1247</td>\n",
              "      <td>43</td>\n",
              "      <td>NaN</td>\n",
              "      <td>806557070.0</td>\n",
              "      <td>2.0</td>\n",
              "      <td>2.0</td>\n",
              "      <td>WILLIAM ALLEN</td>\n",
              "      <td>0.861180</td>\n",
              "      <td>2406.0</td>\n",
              "      <td>[applicant, hereby, claims, the, benefit, unde...</td>\n",
              "    </tr>\n",
              "    <tr>\n",
              "      <th>3</th>\n",
              "      <td>Tenon &amp; Groove, LLC, v. Plusgrade S.E.C.</td>\n",
              "      <td>12-1118-GMS-SRF</td>\n",
              "      <td>IN THE UNITED STATES DISTRICT COURT\\n FOR THE ...</td>\n",
              "      <td>8145536</td>\n",
              "      <td>Tenon &amp; Groove, LLC, v. Plusgrade S.E.C.</td>\n",
              "      <td>0.0</td>\n",
              "      <td>NaN</td>\n",
              "      <td>03/03/2015</td>\n",
              "      <td>Abstract</td>\n",
              "      <td>Abstract Idea: Implemented on Generic Computer</td>\n",
              "      <td>No</td>\n",
              "      <td>No</td>\n",
              "      <td>PASS</td>\n",
              "      <td>No</td>\n",
              "      <td>Yes</td>\n",
              "      <td>No</td>\n",
              "      <td>No</td>\n",
              "      <td>No</td>\n",
              "      <td>No</td>\n",
              "      <td>No</td>\n",
              "      <td>NaN</td>\n",
              "      <td>Tenon &amp; Groove, LLC,</td>\n",
              "      <td>Plusgrade S.E.C.</td>\n",
              "      <td>US8145536</td>\n",
              "      <td>CROSS-REFERENCE TO RELATED APPLICATIONS AND PR...</td>\n",
              "      <td>6</td>\n",
              "      <td>1</td>\n",
              "      <td>This application is a continuation-in-part, an...</td>\n",
              "      <td>1334</td>\n",
              "      <td>356</td>\n",
              "      <td>3488</td>\n",
              "      <td>11766</td>\n",
              "      <td>188</td>\n",
              "      <td>NaN</td>\n",
              "      <td>NaN</td>\n",
              "      <td>48.0</td>\n",
              "      <td>810.0</td>\n",
              "      <td>WILLIAM ALLEN</td>\n",
              "      <td>0.861180</td>\n",
              "      <td>2406.0</td>\n",
              "      <td>[this, application, is, continuation, in, part...</td>\n",
              "    </tr>\n",
              "    <tr>\n",
              "      <th>4</th>\n",
              "      <td>PricePlay.com, v. AOL Advertising, Inc.</td>\n",
              "      <td>14-92-RGA</td>\n",
              "      <td>IN THE UNITED STATES DISTRICT COURT\\n FOR THE ...</td>\n",
              "      <td>8050982</td>\n",
              "      <td>PricePlay.com, v. AOL Advertising, Inc.</td>\n",
              "      <td>0.0</td>\n",
              "      <td>NaN</td>\n",
              "      <td>03/10/2015</td>\n",
              "      <td>Abstract</td>\n",
              "      <td>Abstract Idea: Implemented on Generic Computer</td>\n",
              "      <td>No</td>\n",
              "      <td>Yes</td>\n",
              "      <td>FAIL</td>\n",
              "      <td>No</td>\n",
              "      <td>No</td>\n",
              "      <td>Yes</td>\n",
              "      <td>No</td>\n",
              "      <td>Yes</td>\n",
              "      <td>No</td>\n",
              "      <td>No</td>\n",
              "      <td>NaN</td>\n",
              "      <td>PricePlay.com,</td>\n",
              "      <td>AOL Advertising, Inc.</td>\n",
              "      <td>US8050982</td>\n",
              "      <td>RELATED APPLICATIONS-Heading-FIELD OF THE INVE...</td>\n",
              "      <td>6</td>\n",
              "      <td>1</td>\n",
              "      <td>This application is a continuation-in-part of ...</td>\n",
              "      <td>91</td>\n",
              "      <td>11</td>\n",
              "      <td>212</td>\n",
              "      <td>485</td>\n",
              "      <td>42</td>\n",
              "      <td>NaN</td>\n",
              "      <td>NaN</td>\n",
              "      <td>7.0</td>\n",
              "      <td>9.0</td>\n",
              "      <td>MICHAEL MISIASZEK</td>\n",
              "      <td>0.839420</td>\n",
              "      <td>1862.0</td>\n",
              "      <td>[this, application, is, continuation, in, part...</td>\n",
              "    </tr>\n",
              "  </tbody>\n",
              "</table>\n",
              "</div>"
            ],
            "text/plain": [
              "                                    Case_name  ...                                 Pre-processed Text\n",
              "0  ULTRAMERCIAL, INC., AND ULTRAMERCIAL, LLC,  ...  [the, present, application, claims, the, benef...\n",
              "1              Hikansut LLC, v. United States  ...  [this, application, claims, priority, to, and,...\n",
              "2    Tenon & Groove, LLC, v. Plusgrade S.E.C.  ...  [applicant, hereby, claims, the, benefit, unde...\n",
              "3    Tenon & Groove, LLC, v. Plusgrade S.E.C.  ...  [this, application, is, continuation, in, part...\n",
              "4     PricePlay.com, v. AOL Advertising, Inc.  ...  [this, application, is, continuation, in, part...\n",
              "\n",
              "[5 rows x 41 columns]"
            ]
          },
          "metadata": {
            "tags": []
          },
          "execution_count": 14
        }
      ]
    },
    {
      "cell_type": "code",
      "metadata": {
        "id": "k01DslvCPtc9"
      },
      "source": [
        "def averageVector(wordList, Word2VecModel):\n",
        "  \"\"\"Returns the average word vector of a list of words. Looks up word in \n",
        "  pretrained Word2Vec model and computes element-wise average. \"\"\"\n",
        "  vector = []\n",
        "  for word in wordList:\n",
        "    try:\n",
        "      wordVector = Word2VecModel[word].reshape((200, 1))\n",
        "      vector.append(wordVector)\n",
        "    except KeyError as error:\n",
        "      continue\n",
        "  twoDArray = np.hstack(vector)\n",
        "  averageVector = np.mean(twoDArray, axis = 1)\n",
        "  return averageVector "
      ],
      "execution_count": null,
      "outputs": []
    },
    {
      "cell_type": "code",
      "metadata": {
        "id": "QpwinkECvV_7"
      },
      "source": [
        "a = np.array([averageVector(patent, model) for patent in data['Pre-processed Text']])"
      ],
      "execution_count": null,
      "outputs": []
    },
    {
      "cell_type": "code",
      "metadata": {
        "id": "B8sioW3dxB3u",
        "outputId": "f321a21c-cd4d-40b0-be28-631f1462ebe4",
        "colab": {
          "base_uri": "https://localhost:8080/",
          "height": 746
        }
      },
      "source": [
        "at = pd.DataFrame(a)\n",
        "data_with_vectors = pd.concat([at, data], axis = 1)\n",
        "data_with_vectors.head()"
      ],
      "execution_count": null,
      "outputs": [
        {
          "output_type": "execute_result",
          "data": {
            "text/html": [
              "<div>\n",
              "<style scoped>\n",
              "    .dataframe tbody tr th:only-of-type {\n",
              "        vertical-align: middle;\n",
              "    }\n",
              "\n",
              "    .dataframe tbody tr th {\n",
              "        vertical-align: top;\n",
              "    }\n",
              "\n",
              "    .dataframe thead th {\n",
              "        text-align: right;\n",
              "    }\n",
              "</style>\n",
              "<table border=\"1\" class=\"dataframe\">\n",
              "  <thead>\n",
              "    <tr style=\"text-align: right;\">\n",
              "      <th></th>\n",
              "      <th>0</th>\n",
              "      <th>1</th>\n",
              "      <th>2</th>\n",
              "      <th>3</th>\n",
              "      <th>4</th>\n",
              "      <th>5</th>\n",
              "      <th>6</th>\n",
              "      <th>7</th>\n",
              "      <th>8</th>\n",
              "      <th>9</th>\n",
              "      <th>10</th>\n",
              "      <th>11</th>\n",
              "      <th>12</th>\n",
              "      <th>13</th>\n",
              "      <th>14</th>\n",
              "      <th>15</th>\n",
              "      <th>16</th>\n",
              "      <th>17</th>\n",
              "      <th>18</th>\n",
              "      <th>19</th>\n",
              "      <th>20</th>\n",
              "      <th>21</th>\n",
              "      <th>22</th>\n",
              "      <th>23</th>\n",
              "      <th>24</th>\n",
              "      <th>25</th>\n",
              "      <th>26</th>\n",
              "      <th>27</th>\n",
              "      <th>28</th>\n",
              "      <th>29</th>\n",
              "      <th>30</th>\n",
              "      <th>31</th>\n",
              "      <th>32</th>\n",
              "      <th>33</th>\n",
              "      <th>34</th>\n",
              "      <th>35</th>\n",
              "      <th>36</th>\n",
              "      <th>37</th>\n",
              "      <th>38</th>\n",
              "      <th>39</th>\n",
              "      <th>...</th>\n",
              "      <th>Case_number</th>\n",
              "      <th>Court</th>\n",
              "      <th>Patent/Application</th>\n",
              "      <th>Claims</th>\n",
              "      <th>Eligibility_under_§_101_(abstract)</th>\n",
              "      <th>Eligiblity_under_§_103</th>\n",
              "      <th>Date</th>\n",
              "      <th>Rationale</th>\n",
              "      <th>Fenwick_Coding</th>\n",
              "      <th>1st Patent Eligibility 101</th>\n",
              "      <th>1st Patent Algorithm</th>\n",
              "      <th>Test Result</th>\n",
              "      <th>Invalid False Positive</th>\n",
              "      <th>Invalid True Positive</th>\n",
              "      <th>Invalid False Negative</th>\n",
              "      <th>Invalid True Negative</th>\n",
              "      <th>Valid False Positive</th>\n",
              "      <th>Valid True Positive</th>\n",
              "      <th>Valid False Negative</th>\n",
              "      <th>Kind Code</th>\n",
              "      <th>Party 1</th>\n",
              "      <th>Party 2</th>\n",
              "      <th>w_US</th>\n",
              "      <th>Heading Text</th>\n",
              "      <th>Number of headings</th>\n",
              "      <th>DETAILED in heading</th>\n",
              "      <th>Patent Text</th>\n",
              "      <th>Number of Paragraphs</th>\n",
              "      <th>Figure Count</th>\n",
              "      <th>Digit/Decimal Count</th>\n",
              "      <th>Excluding Phrase Count</th>\n",
              "      <th>Semicolon Count</th>\n",
              "      <th>Number of Backward Citations</th>\n",
              "      <th>Number of Forward Citations</th>\n",
              "      <th>Wherein Count</th>\n",
              "      <th>Said Count</th>\n",
              "      <th>Examiner Name</th>\n",
              "      <th>Examiner Rate</th>\n",
              "      <th>Examiner Count</th>\n",
              "      <th>Pre-processed Text</th>\n",
              "    </tr>\n",
              "  </thead>\n",
              "  <tbody>\n",
              "    <tr>\n",
              "      <th>0</th>\n",
              "      <td>0.039431</td>\n",
              "      <td>0.058078</td>\n",
              "      <td>-0.015846</td>\n",
              "      <td>0.050894</td>\n",
              "      <td>-0.062715</td>\n",
              "      <td>0.077039</td>\n",
              "      <td>0.026424</td>\n",
              "      <td>-0.281543</td>\n",
              "      <td>0.087927</td>\n",
              "      <td>0.002637</td>\n",
              "      <td>-0.068170</td>\n",
              "      <td>-0.137245</td>\n",
              "      <td>-0.109340</td>\n",
              "      <td>-0.093905</td>\n",
              "      <td>0.054556</td>\n",
              "      <td>0.145473</td>\n",
              "      <td>-0.212352</td>\n",
              "      <td>-0.042018</td>\n",
              "      <td>0.091337</td>\n",
              "      <td>-0.176319</td>\n",
              "      <td>0.003529</td>\n",
              "      <td>-0.177803</td>\n",
              "      <td>0.134581</td>\n",
              "      <td>0.098246</td>\n",
              "      <td>-0.147949</td>\n",
              "      <td>-0.011054</td>\n",
              "      <td>0.128935</td>\n",
              "      <td>-0.069047</td>\n",
              "      <td>-0.080635</td>\n",
              "      <td>-0.171656</td>\n",
              "      <td>0.307243</td>\n",
              "      <td>-0.073409</td>\n",
              "      <td>-0.236856</td>\n",
              "      <td>0.000709</td>\n",
              "      <td>0.038833</td>\n",
              "      <td>0.043728</td>\n",
              "      <td>0.048469</td>\n",
              "      <td>0.031554</td>\n",
              "      <td>-0.077387</td>\n",
              "      <td>-0.032980</td>\n",
              "      <td>...</td>\n",
              "      <td>2010-1544</td>\n",
              "      <td>Court of Appeals</td>\n",
              "      <td>7346545.0</td>\n",
              "      <td>ULTRAMERCIAL, INC., AND ULTRAMERCIAL, LLC,</td>\n",
              "      <td>0.0</td>\n",
              "      <td>NaN</td>\n",
              "      <td>10/14/2014</td>\n",
              "      <td>Abstract</td>\n",
              "      <td>Abstract Idea: An Idea of Itself</td>\n",
              "      <td>No</td>\n",
              "      <td>No</td>\n",
              "      <td>PASS</td>\n",
              "      <td>No</td>\n",
              "      <td>Yes</td>\n",
              "      <td>No</td>\n",
              "      <td>No</td>\n",
              "      <td>No</td>\n",
              "      <td>No</td>\n",
              "      <td>No</td>\n",
              "      <td>NaN</td>\n",
              "      <td>ULTRAMERCIAL, INC.</td>\n",
              "      <td>ULTRAMERCIAL, LLC,</td>\n",
              "      <td>US7346545</td>\n",
              "      <td>CLAIM OF PRIORITY-Heading-BACKGROUND OF THE IN...</td>\n",
              "      <td>5.0</td>\n",
              "      <td>1.0</td>\n",
              "      <td>The present application claims the benefit of ...</td>\n",
              "      <td>64.0</td>\n",
              "      <td>17.0</td>\n",
              "      <td>189.0</td>\n",
              "      <td>332.0</td>\n",
              "      <td>28.0</td>\n",
              "      <td>NaN</td>\n",
              "      <td>859412202.0</td>\n",
              "      <td>1.0</td>\n",
              "      <td>18.0</td>\n",
              "      <td>ROBERT POND</td>\n",
              "      <td>0.849624</td>\n",
              "      <td>2660.0</td>\n",
              "      <td>[the, present, application, claims, the, benef...</td>\n",
              "    </tr>\n",
              "    <tr>\n",
              "      <th>1</th>\n",
              "      <td>-0.023565</td>\n",
              "      <td>0.096962</td>\n",
              "      <td>0.042135</td>\n",
              "      <td>0.033815</td>\n",
              "      <td>-0.051004</td>\n",
              "      <td>0.105860</td>\n",
              "      <td>0.044135</td>\n",
              "      <td>-0.274801</td>\n",
              "      <td>0.113925</td>\n",
              "      <td>0.005171</td>\n",
              "      <td>-0.152544</td>\n",
              "      <td>-0.141275</td>\n",
              "      <td>-0.090019</td>\n",
              "      <td>-0.132323</td>\n",
              "      <td>0.058807</td>\n",
              "      <td>0.161266</td>\n",
              "      <td>-0.152492</td>\n",
              "      <td>-0.021198</td>\n",
              "      <td>0.128614</td>\n",
              "      <td>-0.206587</td>\n",
              "      <td>-0.011550</td>\n",
              "      <td>-0.140185</td>\n",
              "      <td>0.106085</td>\n",
              "      <td>0.037389</td>\n",
              "      <td>-0.169886</td>\n",
              "      <td>-0.019921</td>\n",
              "      <td>0.122829</td>\n",
              "      <td>-0.088728</td>\n",
              "      <td>-0.063823</td>\n",
              "      <td>-0.147762</td>\n",
              "      <td>0.312775</td>\n",
              "      <td>-0.070052</td>\n",
              "      <td>-0.230803</td>\n",
              "      <td>-0.024126</td>\n",
              "      <td>0.070656</td>\n",
              "      <td>0.068076</td>\n",
              "      <td>0.058666</td>\n",
              "      <td>0.082593</td>\n",
              "      <td>-0.074148</td>\n",
              "      <td>-0.026228</td>\n",
              "      <td>...</td>\n",
              "      <td>COFC-1-12-cv-00303</td>\n",
              "      <td>In the United States Court of Federal Claims</td>\n",
              "      <td>7175722.0</td>\n",
              "      <td>Hikansut LLC, v. United States</td>\n",
              "      <td>1.0</td>\n",
              "      <td>NaN</td>\n",
              "      <td>10/18/2016</td>\n",
              "      <td>Not Abstract</td>\n",
              "      <td>Not Abstract</td>\n",
              "      <td>Yes</td>\n",
              "      <td>Yes</td>\n",
              "      <td>PASS</td>\n",
              "      <td>No</td>\n",
              "      <td>No</td>\n",
              "      <td>No</td>\n",
              "      <td>Yes</td>\n",
              "      <td>No</td>\n",
              "      <td>Yes</td>\n",
              "      <td>No</td>\n",
              "      <td>NaN</td>\n",
              "      <td>Hikansut LLC,</td>\n",
              "      <td>United States</td>\n",
              "      <td>US7175722</td>\n",
              "      <td>REFERENCE TO RELATED APPLICATION-Heading-FIELD...</td>\n",
              "      <td>6.0</td>\n",
              "      <td>1.0</td>\n",
              "      <td>This application claims priority to and the be...</td>\n",
              "      <td>94.0</td>\n",
              "      <td>48.0</td>\n",
              "      <td>481.0</td>\n",
              "      <td>729.0</td>\n",
              "      <td>13.0</td>\n",
              "      <td>NaN</td>\n",
              "      <td>975444364.0</td>\n",
              "      <td>36.0</td>\n",
              "      <td>0.0</td>\n",
              "      <td>SIKYIN IP</td>\n",
              "      <td>0.883900</td>\n",
              "      <td>7149.0</td>\n",
              "      <td>[this, application, claims, priority, to, and,...</td>\n",
              "    </tr>\n",
              "    <tr>\n",
              "      <th>2</th>\n",
              "      <td>0.012036</td>\n",
              "      <td>0.066693</td>\n",
              "      <td>0.027685</td>\n",
              "      <td>0.052238</td>\n",
              "      <td>-0.033077</td>\n",
              "      <td>0.098830</td>\n",
              "      <td>-0.003606</td>\n",
              "      <td>-0.234474</td>\n",
              "      <td>0.092447</td>\n",
              "      <td>-0.015056</td>\n",
              "      <td>-0.073536</td>\n",
              "      <td>-0.141718</td>\n",
              "      <td>-0.087038</td>\n",
              "      <td>-0.112434</td>\n",
              "      <td>0.020113</td>\n",
              "      <td>0.174092</td>\n",
              "      <td>-0.199644</td>\n",
              "      <td>-0.032583</td>\n",
              "      <td>0.119494</td>\n",
              "      <td>-0.192038</td>\n",
              "      <td>-0.009246</td>\n",
              "      <td>-0.138840</td>\n",
              "      <td>0.090230</td>\n",
              "      <td>0.090595</td>\n",
              "      <td>-0.174202</td>\n",
              "      <td>-0.010499</td>\n",
              "      <td>0.142105</td>\n",
              "      <td>-0.094852</td>\n",
              "      <td>-0.079395</td>\n",
              "      <td>-0.156779</td>\n",
              "      <td>0.288777</td>\n",
              "      <td>-0.063192</td>\n",
              "      <td>-0.231780</td>\n",
              "      <td>-0.025894</td>\n",
              "      <td>0.052147</td>\n",
              "      <td>0.053856</td>\n",
              "      <td>0.052672</td>\n",
              "      <td>0.042627</td>\n",
              "      <td>-0.056451</td>\n",
              "      <td>-0.020790</td>\n",
              "      <td>...</td>\n",
              "      <td>12-1118-GMS-SRF</td>\n",
              "      <td>IN THE UNITED STATES DISTRICT COURT\\n FOR THE ...</td>\n",
              "      <td>7418409.0</td>\n",
              "      <td>Tenon &amp; Groove, LLC, v. Plusgrade S.E.C.</td>\n",
              "      <td>0.0</td>\n",
              "      <td>NaN</td>\n",
              "      <td>03/03/2015</td>\n",
              "      <td>Abstract</td>\n",
              "      <td>Abstract Idea: Implemented on Generic Computer</td>\n",
              "      <td>No</td>\n",
              "      <td>No</td>\n",
              "      <td>PASS</td>\n",
              "      <td>No</td>\n",
              "      <td>Yes</td>\n",
              "      <td>No</td>\n",
              "      <td>No</td>\n",
              "      <td>No</td>\n",
              "      <td>No</td>\n",
              "      <td>No</td>\n",
              "      <td>NaN</td>\n",
              "      <td>Tenon &amp; Groove, LLC,</td>\n",
              "      <td>Plusgrade S.E.C.</td>\n",
              "      <td>US7418409</td>\n",
              "      <td>CROSS-REFERENCE TO RELATED APPLICATION AND PRI...</td>\n",
              "      <td>12.0</td>\n",
              "      <td>1.0</td>\n",
              "      <td>Applicant hereby claims the benefit, under 35 ...</td>\n",
              "      <td>227.0</td>\n",
              "      <td>84.0</td>\n",
              "      <td>599.0</td>\n",
              "      <td>1247.0</td>\n",
              "      <td>43.0</td>\n",
              "      <td>NaN</td>\n",
              "      <td>806557070.0</td>\n",
              "      <td>2.0</td>\n",
              "      <td>2.0</td>\n",
              "      <td>WILLIAM ALLEN</td>\n",
              "      <td>0.861180</td>\n",
              "      <td>2406.0</td>\n",
              "      <td>[applicant, hereby, claims, the, benefit, unde...</td>\n",
              "    </tr>\n",
              "    <tr>\n",
              "      <th>3</th>\n",
              "      <td>0.011056</td>\n",
              "      <td>0.058879</td>\n",
              "      <td>0.052138</td>\n",
              "      <td>0.055556</td>\n",
              "      <td>-0.018823</td>\n",
              "      <td>0.080709</td>\n",
              "      <td>0.000916</td>\n",
              "      <td>-0.243252</td>\n",
              "      <td>0.092983</td>\n",
              "      <td>-0.018876</td>\n",
              "      <td>-0.104807</td>\n",
              "      <td>-0.146416</td>\n",
              "      <td>-0.103710</td>\n",
              "      <td>-0.103115</td>\n",
              "      <td>0.025543</td>\n",
              "      <td>0.156603</td>\n",
              "      <td>-0.212953</td>\n",
              "      <td>0.000055</td>\n",
              "      <td>0.127582</td>\n",
              "      <td>-0.190478</td>\n",
              "      <td>-0.005795</td>\n",
              "      <td>-0.156562</td>\n",
              "      <td>0.082621</td>\n",
              "      <td>0.087849</td>\n",
              "      <td>-0.177951</td>\n",
              "      <td>-0.021945</td>\n",
              "      <td>0.146040</td>\n",
              "      <td>-0.082257</td>\n",
              "      <td>-0.093993</td>\n",
              "      <td>-0.163446</td>\n",
              "      <td>0.293951</td>\n",
              "      <td>-0.071597</td>\n",
              "      <td>-0.259511</td>\n",
              "      <td>-0.016202</td>\n",
              "      <td>0.056251</td>\n",
              "      <td>0.065542</td>\n",
              "      <td>0.057309</td>\n",
              "      <td>0.037368</td>\n",
              "      <td>-0.072924</td>\n",
              "      <td>-0.016576</td>\n",
              "      <td>...</td>\n",
              "      <td>12-1118-GMS-SRF</td>\n",
              "      <td>IN THE UNITED STATES DISTRICT COURT\\n FOR THE ...</td>\n",
              "      <td>8145536.0</td>\n",
              "      <td>Tenon &amp; Groove, LLC, v. Plusgrade S.E.C.</td>\n",
              "      <td>0.0</td>\n",
              "      <td>NaN</td>\n",
              "      <td>03/03/2015</td>\n",
              "      <td>Abstract</td>\n",
              "      <td>Abstract Idea: Implemented on Generic Computer</td>\n",
              "      <td>No</td>\n",
              "      <td>No</td>\n",
              "      <td>PASS</td>\n",
              "      <td>No</td>\n",
              "      <td>Yes</td>\n",
              "      <td>No</td>\n",
              "      <td>No</td>\n",
              "      <td>No</td>\n",
              "      <td>No</td>\n",
              "      <td>No</td>\n",
              "      <td>NaN</td>\n",
              "      <td>Tenon &amp; Groove, LLC,</td>\n",
              "      <td>Plusgrade S.E.C.</td>\n",
              "      <td>US8145536</td>\n",
              "      <td>CROSS-REFERENCE TO RELATED APPLICATIONS AND PR...</td>\n",
              "      <td>6.0</td>\n",
              "      <td>1.0</td>\n",
              "      <td>This application is a continuation-in-part, an...</td>\n",
              "      <td>1334.0</td>\n",
              "      <td>356.0</td>\n",
              "      <td>3488.0</td>\n",
              "      <td>11766.0</td>\n",
              "      <td>188.0</td>\n",
              "      <td>NaN</td>\n",
              "      <td>NaN</td>\n",
              "      <td>48.0</td>\n",
              "      <td>810.0</td>\n",
              "      <td>WILLIAM ALLEN</td>\n",
              "      <td>0.861180</td>\n",
              "      <td>2406.0</td>\n",
              "      <td>[this, application, is, continuation, in, part...</td>\n",
              "    </tr>\n",
              "    <tr>\n",
              "      <th>4</th>\n",
              "      <td>0.024540</td>\n",
              "      <td>0.075299</td>\n",
              "      <td>0.017138</td>\n",
              "      <td>0.061051</td>\n",
              "      <td>-0.027959</td>\n",
              "      <td>0.066890</td>\n",
              "      <td>0.009649</td>\n",
              "      <td>-0.256801</td>\n",
              "      <td>0.101457</td>\n",
              "      <td>0.000309</td>\n",
              "      <td>-0.082779</td>\n",
              "      <td>-0.135737</td>\n",
              "      <td>-0.097805</td>\n",
              "      <td>-0.132574</td>\n",
              "      <td>0.046003</td>\n",
              "      <td>0.170524</td>\n",
              "      <td>-0.218029</td>\n",
              "      <td>-0.023580</td>\n",
              "      <td>0.103980</td>\n",
              "      <td>-0.195739</td>\n",
              "      <td>-0.013941</td>\n",
              "      <td>-0.165638</td>\n",
              "      <td>0.101966</td>\n",
              "      <td>0.105452</td>\n",
              "      <td>-0.160230</td>\n",
              "      <td>-0.001595</td>\n",
              "      <td>0.170708</td>\n",
              "      <td>-0.080834</td>\n",
              "      <td>-0.064678</td>\n",
              "      <td>-0.192141</td>\n",
              "      <td>0.279056</td>\n",
              "      <td>-0.067671</td>\n",
              "      <td>-0.242843</td>\n",
              "      <td>0.021436</td>\n",
              "      <td>0.060869</td>\n",
              "      <td>0.063549</td>\n",
              "      <td>0.048687</td>\n",
              "      <td>0.041774</td>\n",
              "      <td>-0.072809</td>\n",
              "      <td>-0.023570</td>\n",
              "      <td>...</td>\n",
              "      <td>14-92-RGA</td>\n",
              "      <td>IN THE UNITED STATES DISTRICT COURT\\n FOR THE ...</td>\n",
              "      <td>8050982.0</td>\n",
              "      <td>PricePlay.com, v. AOL Advertising, Inc.</td>\n",
              "      <td>0.0</td>\n",
              "      <td>NaN</td>\n",
              "      <td>03/10/2015</td>\n",
              "      <td>Abstract</td>\n",
              "      <td>Abstract Idea: Implemented on Generic Computer</td>\n",
              "      <td>No</td>\n",
              "      <td>Yes</td>\n",
              "      <td>FAIL</td>\n",
              "      <td>No</td>\n",
              "      <td>No</td>\n",
              "      <td>Yes</td>\n",
              "      <td>No</td>\n",
              "      <td>Yes</td>\n",
              "      <td>No</td>\n",
              "      <td>No</td>\n",
              "      <td>NaN</td>\n",
              "      <td>PricePlay.com,</td>\n",
              "      <td>AOL Advertising, Inc.</td>\n",
              "      <td>US8050982</td>\n",
              "      <td>RELATED APPLICATIONS-Heading-FIELD OF THE INVE...</td>\n",
              "      <td>6.0</td>\n",
              "      <td>1.0</td>\n",
              "      <td>This application is a continuation-in-part of ...</td>\n",
              "      <td>91.0</td>\n",
              "      <td>11.0</td>\n",
              "      <td>212.0</td>\n",
              "      <td>485.0</td>\n",
              "      <td>42.0</td>\n",
              "      <td>NaN</td>\n",
              "      <td>NaN</td>\n",
              "      <td>7.0</td>\n",
              "      <td>9.0</td>\n",
              "      <td>MICHAEL MISIASZEK</td>\n",
              "      <td>0.839420</td>\n",
              "      <td>1862.0</td>\n",
              "      <td>[this, application, is, continuation, in, part...</td>\n",
              "    </tr>\n",
              "  </tbody>\n",
              "</table>\n",
              "<p>5 rows × 241 columns</p>\n",
              "</div>"
            ],
            "text/plain": [
              "          0  ...                                 Pre-processed Text\n",
              "0  0.039431  ...  [the, present, application, claims, the, benef...\n",
              "1 -0.023565  ...  [this, application, claims, priority, to, and,...\n",
              "2  0.012036  ...  [applicant, hereby, claims, the, benefit, unde...\n",
              "3  0.011056  ...  [this, application, is, continuation, in, part...\n",
              "4  0.024540  ...  [this, application, is, continuation, in, part...\n",
              "\n",
              "[5 rows x 241 columns]"
            ]
          },
          "metadata": {
            "tags": []
          },
          "execution_count": 17
        }
      ]
    },
    {
      "cell_type": "code",
      "metadata": {
        "id": "XqhayZ-vpWNM"
      },
      "source": [
        "# Each row is a patent, the numbers in the columns represent the averaged word vector in that dimension."
      ],
      "execution_count": null,
      "outputs": []
    },
    {
      "cell_type": "code",
      "metadata": {
        "id": "OSV6s3Rwgysu",
        "outputId": "10d03212-4cbe-407d-95c2-6aa62db1101f",
        "colab": {
          "base_uri": "https://localhost:8080/",
          "height": 627
        }
      },
      "source": [
        "data_with_vectors.fillna(0, inplace=True)\n",
        "data_with_vectors = data_with_vectors.drop(columns = [\"Case_name\", \"Case_number\", \"Court\", \"Patent/Application\", \n",
        "                     \"Claims\", \"Eligiblity_under_§_103\", \"Date\", \"Rationale\", \"Fenwick_Coding\",\n",
        "                    \"1st Patent Eligibility 101\", \"1st Patent Algorithm\", \"Test Result\", \n",
        "                     \"Invalid False Positive\", \"Invalid True Positive\", \"Invalid False Negative\",\n",
        "                    \"Invalid True Negative\", \"Valid False Negative\", \"Kind Code\", \"Party 1\", \n",
        "                    \"Party 2\", \"w_US\", \"Heading Text\", \"Patent Text\", \"Valid False Positive\", \n",
        "                    \"Valid True Positive\", \"Examiner Name\"])\n",
        "data_with_vectors.head()"
      ],
      "execution_count": null,
      "outputs": [
        {
          "output_type": "execute_result",
          "data": {
            "text/html": [
              "<div>\n",
              "<style scoped>\n",
              "    .dataframe tbody tr th:only-of-type {\n",
              "        vertical-align: middle;\n",
              "    }\n",
              "\n",
              "    .dataframe tbody tr th {\n",
              "        vertical-align: top;\n",
              "    }\n",
              "\n",
              "    .dataframe thead th {\n",
              "        text-align: right;\n",
              "    }\n",
              "</style>\n",
              "<table border=\"1\" class=\"dataframe\">\n",
              "  <thead>\n",
              "    <tr style=\"text-align: right;\">\n",
              "      <th></th>\n",
              "      <th>0</th>\n",
              "      <th>1</th>\n",
              "      <th>2</th>\n",
              "      <th>3</th>\n",
              "      <th>4</th>\n",
              "      <th>5</th>\n",
              "      <th>6</th>\n",
              "      <th>7</th>\n",
              "      <th>8</th>\n",
              "      <th>9</th>\n",
              "      <th>10</th>\n",
              "      <th>11</th>\n",
              "      <th>12</th>\n",
              "      <th>13</th>\n",
              "      <th>14</th>\n",
              "      <th>15</th>\n",
              "      <th>16</th>\n",
              "      <th>17</th>\n",
              "      <th>18</th>\n",
              "      <th>19</th>\n",
              "      <th>20</th>\n",
              "      <th>21</th>\n",
              "      <th>22</th>\n",
              "      <th>23</th>\n",
              "      <th>24</th>\n",
              "      <th>25</th>\n",
              "      <th>26</th>\n",
              "      <th>27</th>\n",
              "      <th>28</th>\n",
              "      <th>29</th>\n",
              "      <th>30</th>\n",
              "      <th>31</th>\n",
              "      <th>32</th>\n",
              "      <th>33</th>\n",
              "      <th>34</th>\n",
              "      <th>35</th>\n",
              "      <th>36</th>\n",
              "      <th>37</th>\n",
              "      <th>38</th>\n",
              "      <th>39</th>\n",
              "      <th>...</th>\n",
              "      <th>175</th>\n",
              "      <th>176</th>\n",
              "      <th>177</th>\n",
              "      <th>178</th>\n",
              "      <th>179</th>\n",
              "      <th>180</th>\n",
              "      <th>181</th>\n",
              "      <th>182</th>\n",
              "      <th>183</th>\n",
              "      <th>184</th>\n",
              "      <th>185</th>\n",
              "      <th>186</th>\n",
              "      <th>187</th>\n",
              "      <th>188</th>\n",
              "      <th>189</th>\n",
              "      <th>190</th>\n",
              "      <th>191</th>\n",
              "      <th>192</th>\n",
              "      <th>193</th>\n",
              "      <th>194</th>\n",
              "      <th>195</th>\n",
              "      <th>196</th>\n",
              "      <th>197</th>\n",
              "      <th>198</th>\n",
              "      <th>199</th>\n",
              "      <th>Eligibility_under_§_101_(abstract)</th>\n",
              "      <th>Number of headings</th>\n",
              "      <th>DETAILED in heading</th>\n",
              "      <th>Number of Paragraphs</th>\n",
              "      <th>Figure Count</th>\n",
              "      <th>Digit/Decimal Count</th>\n",
              "      <th>Excluding Phrase Count</th>\n",
              "      <th>Semicolon Count</th>\n",
              "      <th>Number of Backward Citations</th>\n",
              "      <th>Number of Forward Citations</th>\n",
              "      <th>Wherein Count</th>\n",
              "      <th>Said Count</th>\n",
              "      <th>Examiner Rate</th>\n",
              "      <th>Examiner Count</th>\n",
              "      <th>Pre-processed Text</th>\n",
              "    </tr>\n",
              "  </thead>\n",
              "  <tbody>\n",
              "    <tr>\n",
              "      <th>0</th>\n",
              "      <td>0.039431</td>\n",
              "      <td>0.058078</td>\n",
              "      <td>-0.015846</td>\n",
              "      <td>0.050894</td>\n",
              "      <td>-0.062715</td>\n",
              "      <td>0.077039</td>\n",
              "      <td>0.026424</td>\n",
              "      <td>-0.281543</td>\n",
              "      <td>0.087927</td>\n",
              "      <td>0.002637</td>\n",
              "      <td>-0.068170</td>\n",
              "      <td>-0.137245</td>\n",
              "      <td>-0.109340</td>\n",
              "      <td>-0.093905</td>\n",
              "      <td>0.054556</td>\n",
              "      <td>0.145473</td>\n",
              "      <td>-0.212352</td>\n",
              "      <td>-0.042018</td>\n",
              "      <td>0.091337</td>\n",
              "      <td>-0.176319</td>\n",
              "      <td>0.003529</td>\n",
              "      <td>-0.177803</td>\n",
              "      <td>0.134581</td>\n",
              "      <td>0.098246</td>\n",
              "      <td>-0.147949</td>\n",
              "      <td>-0.011054</td>\n",
              "      <td>0.128935</td>\n",
              "      <td>-0.069047</td>\n",
              "      <td>-0.080635</td>\n",
              "      <td>-0.171656</td>\n",
              "      <td>0.307243</td>\n",
              "      <td>-0.073409</td>\n",
              "      <td>-0.236856</td>\n",
              "      <td>0.000709</td>\n",
              "      <td>0.038833</td>\n",
              "      <td>0.043728</td>\n",
              "      <td>0.048469</td>\n",
              "      <td>0.031554</td>\n",
              "      <td>-0.077387</td>\n",
              "      <td>-0.032980</td>\n",
              "      <td>...</td>\n",
              "      <td>-0.034212</td>\n",
              "      <td>0.090877</td>\n",
              "      <td>0.003041</td>\n",
              "      <td>0.038745</td>\n",
              "      <td>0.125676</td>\n",
              "      <td>0.057907</td>\n",
              "      <td>0.045939</td>\n",
              "      <td>-0.089803</td>\n",
              "      <td>-0.060890</td>\n",
              "      <td>-0.050321</td>\n",
              "      <td>-0.031107</td>\n",
              "      <td>-0.091223</td>\n",
              "      <td>0.166795</td>\n",
              "      <td>0.062095</td>\n",
              "      <td>-0.035867</td>\n",
              "      <td>0.027537</td>\n",
              "      <td>-0.092225</td>\n",
              "      <td>0.129163</td>\n",
              "      <td>-0.021636</td>\n",
              "      <td>0.124366</td>\n",
              "      <td>0.032036</td>\n",
              "      <td>-0.018791</td>\n",
              "      <td>-0.051071</td>\n",
              "      <td>0.010463</td>\n",
              "      <td>0.085238</td>\n",
              "      <td>0.0</td>\n",
              "      <td>5.0</td>\n",
              "      <td>1.0</td>\n",
              "      <td>64.0</td>\n",
              "      <td>17.0</td>\n",
              "      <td>189.0</td>\n",
              "      <td>332.0</td>\n",
              "      <td>28.0</td>\n",
              "      <td>0.0</td>\n",
              "      <td>859412202.0</td>\n",
              "      <td>1.0</td>\n",
              "      <td>18.0</td>\n",
              "      <td>0.849624</td>\n",
              "      <td>2660.0</td>\n",
              "      <td>[the, present, application, claims, the, benef...</td>\n",
              "    </tr>\n",
              "    <tr>\n",
              "      <th>1</th>\n",
              "      <td>-0.023565</td>\n",
              "      <td>0.096962</td>\n",
              "      <td>0.042135</td>\n",
              "      <td>0.033815</td>\n",
              "      <td>-0.051004</td>\n",
              "      <td>0.105860</td>\n",
              "      <td>0.044135</td>\n",
              "      <td>-0.274801</td>\n",
              "      <td>0.113925</td>\n",
              "      <td>0.005171</td>\n",
              "      <td>-0.152544</td>\n",
              "      <td>-0.141275</td>\n",
              "      <td>-0.090019</td>\n",
              "      <td>-0.132323</td>\n",
              "      <td>0.058807</td>\n",
              "      <td>0.161266</td>\n",
              "      <td>-0.152492</td>\n",
              "      <td>-0.021198</td>\n",
              "      <td>0.128614</td>\n",
              "      <td>-0.206587</td>\n",
              "      <td>-0.011550</td>\n",
              "      <td>-0.140185</td>\n",
              "      <td>0.106085</td>\n",
              "      <td>0.037389</td>\n",
              "      <td>-0.169886</td>\n",
              "      <td>-0.019921</td>\n",
              "      <td>0.122829</td>\n",
              "      <td>-0.088728</td>\n",
              "      <td>-0.063823</td>\n",
              "      <td>-0.147762</td>\n",
              "      <td>0.312775</td>\n",
              "      <td>-0.070052</td>\n",
              "      <td>-0.230803</td>\n",
              "      <td>-0.024126</td>\n",
              "      <td>0.070656</td>\n",
              "      <td>0.068076</td>\n",
              "      <td>0.058666</td>\n",
              "      <td>0.082593</td>\n",
              "      <td>-0.074148</td>\n",
              "      <td>-0.026228</td>\n",
              "      <td>...</td>\n",
              "      <td>-0.045783</td>\n",
              "      <td>0.055070</td>\n",
              "      <td>-0.000624</td>\n",
              "      <td>0.053030</td>\n",
              "      <td>0.164385</td>\n",
              "      <td>0.022487</td>\n",
              "      <td>0.092409</td>\n",
              "      <td>-0.069532</td>\n",
              "      <td>-0.060964</td>\n",
              "      <td>-0.060797</td>\n",
              "      <td>-0.020107</td>\n",
              "      <td>-0.090614</td>\n",
              "      <td>0.134383</td>\n",
              "      <td>0.106242</td>\n",
              "      <td>-0.009841</td>\n",
              "      <td>0.041864</td>\n",
              "      <td>-0.134112</td>\n",
              "      <td>0.186090</td>\n",
              "      <td>-0.067437</td>\n",
              "      <td>0.129796</td>\n",
              "      <td>0.014271</td>\n",
              "      <td>-0.026872</td>\n",
              "      <td>-0.092783</td>\n",
              "      <td>0.027859</td>\n",
              "      <td>0.116687</td>\n",
              "      <td>1.0</td>\n",
              "      <td>6.0</td>\n",
              "      <td>1.0</td>\n",
              "      <td>94.0</td>\n",
              "      <td>48.0</td>\n",
              "      <td>481.0</td>\n",
              "      <td>729.0</td>\n",
              "      <td>13.0</td>\n",
              "      <td>0.0</td>\n",
              "      <td>975444364.0</td>\n",
              "      <td>36.0</td>\n",
              "      <td>0.0</td>\n",
              "      <td>0.883900</td>\n",
              "      <td>7149.0</td>\n",
              "      <td>[this, application, claims, priority, to, and,...</td>\n",
              "    </tr>\n",
              "    <tr>\n",
              "      <th>2</th>\n",
              "      <td>0.012036</td>\n",
              "      <td>0.066693</td>\n",
              "      <td>0.027685</td>\n",
              "      <td>0.052238</td>\n",
              "      <td>-0.033077</td>\n",
              "      <td>0.098830</td>\n",
              "      <td>-0.003606</td>\n",
              "      <td>-0.234474</td>\n",
              "      <td>0.092447</td>\n",
              "      <td>-0.015056</td>\n",
              "      <td>-0.073536</td>\n",
              "      <td>-0.141718</td>\n",
              "      <td>-0.087038</td>\n",
              "      <td>-0.112434</td>\n",
              "      <td>0.020113</td>\n",
              "      <td>0.174092</td>\n",
              "      <td>-0.199644</td>\n",
              "      <td>-0.032583</td>\n",
              "      <td>0.119494</td>\n",
              "      <td>-0.192038</td>\n",
              "      <td>-0.009246</td>\n",
              "      <td>-0.138840</td>\n",
              "      <td>0.090230</td>\n",
              "      <td>0.090595</td>\n",
              "      <td>-0.174202</td>\n",
              "      <td>-0.010499</td>\n",
              "      <td>0.142105</td>\n",
              "      <td>-0.094852</td>\n",
              "      <td>-0.079395</td>\n",
              "      <td>-0.156779</td>\n",
              "      <td>0.288777</td>\n",
              "      <td>-0.063192</td>\n",
              "      <td>-0.231780</td>\n",
              "      <td>-0.025894</td>\n",
              "      <td>0.052147</td>\n",
              "      <td>0.053856</td>\n",
              "      <td>0.052672</td>\n",
              "      <td>0.042627</td>\n",
              "      <td>-0.056451</td>\n",
              "      <td>-0.020790</td>\n",
              "      <td>...</td>\n",
              "      <td>-0.066094</td>\n",
              "      <td>0.043514</td>\n",
              "      <td>-0.002464</td>\n",
              "      <td>0.016401</td>\n",
              "      <td>0.134568</td>\n",
              "      <td>0.046965</td>\n",
              "      <td>0.085708</td>\n",
              "      <td>-0.070596</td>\n",
              "      <td>-0.051266</td>\n",
              "      <td>-0.038989</td>\n",
              "      <td>-0.006614</td>\n",
              "      <td>-0.091451</td>\n",
              "      <td>0.131548</td>\n",
              "      <td>0.061164</td>\n",
              "      <td>-0.023080</td>\n",
              "      <td>0.003988</td>\n",
              "      <td>-0.130462</td>\n",
              "      <td>0.128340</td>\n",
              "      <td>-0.042384</td>\n",
              "      <td>0.118296</td>\n",
              "      <td>0.004739</td>\n",
              "      <td>-0.042915</td>\n",
              "      <td>-0.058324</td>\n",
              "      <td>0.036307</td>\n",
              "      <td>0.064818</td>\n",
              "      <td>0.0</td>\n",
              "      <td>12.0</td>\n",
              "      <td>1.0</td>\n",
              "      <td>227.0</td>\n",
              "      <td>84.0</td>\n",
              "      <td>599.0</td>\n",
              "      <td>1247.0</td>\n",
              "      <td>43.0</td>\n",
              "      <td>0.0</td>\n",
              "      <td>806557070.0</td>\n",
              "      <td>2.0</td>\n",
              "      <td>2.0</td>\n",
              "      <td>0.861180</td>\n",
              "      <td>2406.0</td>\n",
              "      <td>[applicant, hereby, claims, the, benefit, unde...</td>\n",
              "    </tr>\n",
              "    <tr>\n",
              "      <th>3</th>\n",
              "      <td>0.011056</td>\n",
              "      <td>0.058879</td>\n",
              "      <td>0.052138</td>\n",
              "      <td>0.055556</td>\n",
              "      <td>-0.018823</td>\n",
              "      <td>0.080709</td>\n",
              "      <td>0.000916</td>\n",
              "      <td>-0.243252</td>\n",
              "      <td>0.092983</td>\n",
              "      <td>-0.018876</td>\n",
              "      <td>-0.104807</td>\n",
              "      <td>-0.146416</td>\n",
              "      <td>-0.103710</td>\n",
              "      <td>-0.103115</td>\n",
              "      <td>0.025543</td>\n",
              "      <td>0.156603</td>\n",
              "      <td>-0.212953</td>\n",
              "      <td>0.000055</td>\n",
              "      <td>0.127582</td>\n",
              "      <td>-0.190478</td>\n",
              "      <td>-0.005795</td>\n",
              "      <td>-0.156562</td>\n",
              "      <td>0.082621</td>\n",
              "      <td>0.087849</td>\n",
              "      <td>-0.177951</td>\n",
              "      <td>-0.021945</td>\n",
              "      <td>0.146040</td>\n",
              "      <td>-0.082257</td>\n",
              "      <td>-0.093993</td>\n",
              "      <td>-0.163446</td>\n",
              "      <td>0.293951</td>\n",
              "      <td>-0.071597</td>\n",
              "      <td>-0.259511</td>\n",
              "      <td>-0.016202</td>\n",
              "      <td>0.056251</td>\n",
              "      <td>0.065542</td>\n",
              "      <td>0.057309</td>\n",
              "      <td>0.037368</td>\n",
              "      <td>-0.072924</td>\n",
              "      <td>-0.016576</td>\n",
              "      <td>...</td>\n",
              "      <td>-0.052505</td>\n",
              "      <td>0.057134</td>\n",
              "      <td>0.016170</td>\n",
              "      <td>0.033379</td>\n",
              "      <td>0.142383</td>\n",
              "      <td>0.052304</td>\n",
              "      <td>0.072371</td>\n",
              "      <td>-0.072610</td>\n",
              "      <td>-0.070278</td>\n",
              "      <td>-0.037772</td>\n",
              "      <td>-0.027674</td>\n",
              "      <td>-0.094849</td>\n",
              "      <td>0.135927</td>\n",
              "      <td>0.066631</td>\n",
              "      <td>-0.024192</td>\n",
              "      <td>-0.001505</td>\n",
              "      <td>-0.102003</td>\n",
              "      <td>0.154897</td>\n",
              "      <td>-0.034744</td>\n",
              "      <td>0.128032</td>\n",
              "      <td>0.012839</td>\n",
              "      <td>-0.061073</td>\n",
              "      <td>-0.072732</td>\n",
              "      <td>0.038864</td>\n",
              "      <td>0.085526</td>\n",
              "      <td>0.0</td>\n",
              "      <td>6.0</td>\n",
              "      <td>1.0</td>\n",
              "      <td>1334.0</td>\n",
              "      <td>356.0</td>\n",
              "      <td>3488.0</td>\n",
              "      <td>11766.0</td>\n",
              "      <td>188.0</td>\n",
              "      <td>0.0</td>\n",
              "      <td>0.0</td>\n",
              "      <td>48.0</td>\n",
              "      <td>810.0</td>\n",
              "      <td>0.861180</td>\n",
              "      <td>2406.0</td>\n",
              "      <td>[this, application, is, continuation, in, part...</td>\n",
              "    </tr>\n",
              "    <tr>\n",
              "      <th>4</th>\n",
              "      <td>0.024540</td>\n",
              "      <td>0.075299</td>\n",
              "      <td>0.017138</td>\n",
              "      <td>0.061051</td>\n",
              "      <td>-0.027959</td>\n",
              "      <td>0.066890</td>\n",
              "      <td>0.009649</td>\n",
              "      <td>-0.256801</td>\n",
              "      <td>0.101457</td>\n",
              "      <td>0.000309</td>\n",
              "      <td>-0.082779</td>\n",
              "      <td>-0.135737</td>\n",
              "      <td>-0.097805</td>\n",
              "      <td>-0.132574</td>\n",
              "      <td>0.046003</td>\n",
              "      <td>0.170524</td>\n",
              "      <td>-0.218029</td>\n",
              "      <td>-0.023580</td>\n",
              "      <td>0.103980</td>\n",
              "      <td>-0.195739</td>\n",
              "      <td>-0.013941</td>\n",
              "      <td>-0.165638</td>\n",
              "      <td>0.101966</td>\n",
              "      <td>0.105452</td>\n",
              "      <td>-0.160230</td>\n",
              "      <td>-0.001595</td>\n",
              "      <td>0.170708</td>\n",
              "      <td>-0.080834</td>\n",
              "      <td>-0.064678</td>\n",
              "      <td>-0.192141</td>\n",
              "      <td>0.279056</td>\n",
              "      <td>-0.067671</td>\n",
              "      <td>-0.242843</td>\n",
              "      <td>0.021436</td>\n",
              "      <td>0.060869</td>\n",
              "      <td>0.063549</td>\n",
              "      <td>0.048687</td>\n",
              "      <td>0.041774</td>\n",
              "      <td>-0.072809</td>\n",
              "      <td>-0.023570</td>\n",
              "      <td>...</td>\n",
              "      <td>-0.046678</td>\n",
              "      <td>0.059956</td>\n",
              "      <td>0.006832</td>\n",
              "      <td>0.032102</td>\n",
              "      <td>0.120619</td>\n",
              "      <td>0.055730</td>\n",
              "      <td>0.063227</td>\n",
              "      <td>-0.076748</td>\n",
              "      <td>-0.067996</td>\n",
              "      <td>-0.060522</td>\n",
              "      <td>-0.032931</td>\n",
              "      <td>-0.101802</td>\n",
              "      <td>0.148001</td>\n",
              "      <td>0.054016</td>\n",
              "      <td>-0.016463</td>\n",
              "      <td>0.011199</td>\n",
              "      <td>-0.106702</td>\n",
              "      <td>0.141327</td>\n",
              "      <td>-0.034471</td>\n",
              "      <td>0.130407</td>\n",
              "      <td>0.017455</td>\n",
              "      <td>-0.035335</td>\n",
              "      <td>-0.057377</td>\n",
              "      <td>0.046341</td>\n",
              "      <td>0.096252</td>\n",
              "      <td>0.0</td>\n",
              "      <td>6.0</td>\n",
              "      <td>1.0</td>\n",
              "      <td>91.0</td>\n",
              "      <td>11.0</td>\n",
              "      <td>212.0</td>\n",
              "      <td>485.0</td>\n",
              "      <td>42.0</td>\n",
              "      <td>0.0</td>\n",
              "      <td>0.0</td>\n",
              "      <td>7.0</td>\n",
              "      <td>9.0</td>\n",
              "      <td>0.839420</td>\n",
              "      <td>1862.0</td>\n",
              "      <td>[this, application, is, continuation, in, part...</td>\n",
              "    </tr>\n",
              "  </tbody>\n",
              "</table>\n",
              "<p>5 rows × 215 columns</p>\n",
              "</div>"
            ],
            "text/plain": [
              "          0  ...                                 Pre-processed Text\n",
              "0  0.039431  ...  [the, present, application, claims, the, benef...\n",
              "1 -0.023565  ...  [this, application, claims, priority, to, and,...\n",
              "2  0.012036  ...  [applicant, hereby, claims, the, benefit, unde...\n",
              "3  0.011056  ...  [this, application, is, continuation, in, part...\n",
              "4  0.024540  ...  [this, application, is, continuation, in, part...\n",
              "\n",
              "[5 rows x 215 columns]"
            ]
          },
          "metadata": {
            "tags": []
          },
          "execution_count": 19
        }
      ]
    },
    {
      "cell_type": "code",
      "metadata": {
        "id": "3Ih4CcckLMxd"
      },
      "source": [
        "data_with_vectors.to_csv(\"law2vecData.csv\")"
      ],
      "execution_count": null,
      "outputs": []
    },
    {
      "cell_type": "markdown",
      "metadata": {
        "id": "nceNTK3dY25s"
      },
      "source": [
        "Split into training and testing"
      ]
    },
    {
      "cell_type": "code",
      "metadata": {
        "id": "jdCI-dH3g6-u"
      },
      "source": [
        "X = data_with_vectors.drop(columns = ['Number of headings', 'DETAILED in heading','Number of Paragraphs', \n",
        "                                      'Figure Count','Digit/Decimal Count','Excluding Phrase Count', \n",
        "                                      'Semicolon Count','Number of Backward Citations', \n",
        "                                      'Number of Forward Citations','Wherein Count', 'Said Count', \n",
        "                                      'Examiner Rate','Examiner Count', \"Eligibility_under_§_101_(abstract)\", \"Pre-processed Text\"])\n",
        "Y = data_with_vectors['Eligibility_under_§_101_(abstract)']"
      ],
      "execution_count": null,
      "outputs": []
    },
    {
      "cell_type": "code",
      "metadata": {
        "id": "3QBGgF_Z3FgJ",
        "outputId": "076ff262-b956-4be1-cc3e-2d79fce7dec1",
        "colab": {
          "base_uri": "https://localhost:8080/",
          "height": 85
        }
      },
      "source": [
        "X.columns"
      ],
      "execution_count": null,
      "outputs": [
        {
          "output_type": "execute_result",
          "data": {
            "text/plain": [
              "Index([  0,   1,   2,   3,   4,   5,   6,   7,   8,   9,\n",
              "       ...\n",
              "       190, 191, 192, 193, 194, 195, 196, 197, 198, 199],\n",
              "      dtype='object', length=200)"
            ]
          },
          "metadata": {
            "tags": []
          },
          "execution_count": 22
        }
      ]
    },
    {
      "cell_type": "code",
      "metadata": {
        "id": "FptW4OoDhUIr"
      },
      "source": [
        "X_train, X_test, y_train, y_test = train_test_split(X, Y, test_size=0.2, random_state=42)"
      ],
      "execution_count": null,
      "outputs": []
    },
    {
      "cell_type": "code",
      "metadata": {
        "id": "VHj6Gq25IsH9",
        "outputId": "d8b8e051-28ca-4b0c-8ce7-84027e4f7e3e",
        "colab": {
          "base_uri": "https://localhost:8080/",
          "height": 105
        }
      },
      "source": [
        "# Undersampling the majority class\n",
        "undersample = RandomUnderSampler(random_state=37, sampling_strategy=0.4)\n",
        "X_under, y_under = undersample.fit_resample(X_train, y_train)\n",
        "\n",
        "# SMOTE oversampling: https://beckernick.github.io/oversampling-modeling/\n",
        "sm = SMOTE(random_state=12, ratio = 1.0)\n",
        "X_train_res, y_train_res = sm.fit_sample(X_train, y_train)"
      ],
      "execution_count": null,
      "outputs": [
        {
          "output_type": "stream",
          "text": [
            "/usr/local/lib/python3.6/dist-packages/sklearn/utils/deprecation.py:87: FutureWarning: Function safe_indexing is deprecated; safe_indexing is deprecated in version 0.22 and will be removed in version 0.24.\n",
            "  warnings.warn(msg, category=FutureWarning)\n",
            "/usr/local/lib/python3.6/dist-packages/sklearn/utils/deprecation.py:87: FutureWarning: Function safe_indexing is deprecated; safe_indexing is deprecated in version 0.22 and will be removed in version 0.24.\n",
            "  warnings.warn(msg, category=FutureWarning)\n"
          ],
          "name": "stderr"
        }
      ]
    },
    {
      "cell_type": "markdown",
      "metadata": {
        "id": "5ohddCs8mqV_"
      },
      "source": [
        "# Decision Tree\n",
        "- guide: shallowdecisiontree.pdf on aws server"
      ]
    },
    {
      "cell_type": "markdown",
      "metadata": {
        "id": "C8jvomi6mV5m"
      },
      "source": [
        "Decision Tree Without Max Depth"
      ]
    },
    {
      "cell_type": "code",
      "metadata": {
        "id": "izqkjtejmYoU"
      },
      "source": [
        "clf = tree.DecisionTreeClassifier()\n",
        "clf = clf.fit(X_train, y_train)"
      ],
      "execution_count": null,
      "outputs": []
    },
    {
      "cell_type": "code",
      "metadata": {
        "id": "PjEQHQh732NJ",
        "outputId": "251e4fe3-9ae2-455e-bb41-2cd082ce2e74",
        "colab": {
          "base_uri": "https://localhost:8080/",
          "height": 34
        }
      },
      "source": [
        "# train error: how much error the model made in classifying the data using the training datset it was trained on\n",
        "y_train_pred = clf.predict(X_train)\n",
        "train_acc = clf.score(X_train, y_train)\n",
        "train_acc"
      ],
      "execution_count": null,
      "outputs": [
        {
          "output_type": "execute_result",
          "data": {
            "text/plain": [
              "0.9697542533081286"
            ]
          },
          "metadata": {
            "tags": []
          },
          "execution_count": 110
        }
      ]
    },
    {
      "cell_type": "code",
      "metadata": {
        "id": "sCTYZnz337Fl",
        "outputId": "a22b2099-ca4b-49a5-a72d-ed781f6c0636",
        "colab": {
          "base_uri": "https://localhost:8080/",
          "height": 34
        }
      },
      "source": [
        "# test error: ?\n",
        "y_pred = clf.predict(X_test)\n",
        "test_acc = clf.score(X_test, y_test)\n",
        "test_acc"
      ],
      "execution_count": null,
      "outputs": [
        {
          "output_type": "execute_result",
          "data": {
            "text/plain": [
              "0.7518796992481203"
            ]
          },
          "metadata": {
            "tags": []
          },
          "execution_count": 111
        }
      ]
    },
    {
      "cell_type": "code",
      "metadata": {
        "id": "qERtHpRD3-N_",
        "outputId": "a30545b7-4401-4d1b-ea26-8089ea10de1c",
        "colab": {
          "base_uri": "https://localhost:8080/",
          "height": 248
        }
      },
      "source": [
        "tree.plot_tree(clf.fit(X, Y));"
      ],
      "execution_count": null,
      "outputs": [
        {
          "output_type": "display_data",
          "data": {
            "image/png": "[encoded data removed]",
            "text/plain": [
              "<Figure size 432x288 with 1 Axes>"
            ]
          },
          "metadata": {
            "tags": [],
            "needs_background": "light"
          }
        }
      ]
    },
    {
      "cell_type": "markdown",
      "metadata": {
        "id": "ZA40EqwxnqCK"
      },
      "source": [
        "Given the large distance between training accuracy and testing accuracy, this model is clearly overfitting. To account for this, the model will be refined with a max-depth parameter. It will first be tried on a max-depth of 3,\n",
        "and then this hyperparameter will be fine-tuned using cross validation."
      ]
    },
    {
      "cell_type": "markdown",
      "metadata": {
        "id": "cazhsiFOmZi3"
      },
      "source": [
        "Decision Tree With Max Depth"
      ]
    },
    {
      "cell_type": "code",
      "metadata": {
        "id": "Z8fmncObmbAA"
      },
      "source": [
        "clf = tree.DecisionTreeClassifier(max_depth=3)\n",
        "clf = clf.fit(X_train_res, y_train_res)"
      ],
      "execution_count": null,
      "outputs": []
    },
    {
      "cell_type": "code",
      "metadata": {
        "id": "RZKCPQGZ4I3_",
        "outputId": "c938a52f-7c53-4727-ae4c-36cd370c7e71",
        "colab": {
          "base_uri": "https://localhost:8080/",
          "height": 34
        }
      },
      "source": [
        "# train error\n",
        "y_train_pred = clf.predict(X_train_res)\n",
        "train_acc = clf.score(X_train_res, y_train_res)\n",
        "train_acc"
      ],
      "execution_count": null,
      "outputs": [
        {
          "output_type": "execute_result",
          "data": {
            "text/plain": [
              "0.7774936061381074"
            ]
          },
          "metadata": {
            "tags": []
          },
          "execution_count": 70
        }
      ]
    },
    {
      "cell_type": "code",
      "metadata": {
        "id": "BlNSaJ_z4LOP",
        "outputId": "d4ff5747-6cba-4791-f5de-29eaca920c09",
        "colab": {
          "base_uri": "https://localhost:8080/",
          "height": 34
        }
      },
      "source": [
        "# test error\n",
        "y_pred = clf.predict(X_test)\n",
        "test_acc = clf.score(X_test, y_test)\n",
        "test_acc"
      ],
      "execution_count": null,
      "outputs": [
        {
          "output_type": "execute_result",
          "data": {
            "text/plain": [
              "0.8045112781954887"
            ]
          },
          "metadata": {
            "tags": []
          },
          "execution_count": 63
        }
      ]
    },
    {
      "cell_type": "markdown",
      "metadata": {
        "id": "hYt8bO9xoQXg"
      },
      "source": [
        "Max-depth 3 decision tree no longer overfits to the data. There is not a large distance between training and testing accuracy. Also performs slightly better than existing algorithm with accuracy of 70%"
      ]
    },
    {
      "cell_type": "code",
      "metadata": {
        "id": "ZBbgXTQI4SI1",
        "outputId": "8667409e-22f0-4b4e-d92a-c842ec63b2ee",
        "colab": {
          "base_uri": "https://localhost:8080/",
          "height": 248
        }
      },
      "source": [
        "tree.plot_tree(clf.fit(X, Y));"
      ],
      "execution_count": null,
      "outputs": [
        {
          "output_type": "display_data",
          "data": {
            "image/png": "[encoded data removed]",
            "text/plain": [
              "<Figure size 432x288 with 1 Axes>"
            ]
          },
          "metadata": {
            "tags": [],
            "needs_background": "light"
          }
        }
      ]
    },
    {
      "cell_type": "code",
      "metadata": {
        "id": "fLYxQFll4Xi8",
        "outputId": "97797f8c-c8cc-4ba9-dd73-073bc068eb40",
        "colab": {
          "base_uri": "https://localhost:8080/",
          "height": 402
        }
      },
      "source": [
        "features = clf.feature_importances_\n",
        "features_df = pd.DataFrame(features)\n",
        "features_df.rename(columns = {0:'Feature Importances'}, inplace = True) \n",
        "features_df"
      ],
      "execution_count": null,
      "outputs": [
        {
          "output_type": "execute_result",
          "data": {
            "text/html": [
              "<div>\n",
              "<style scoped>\n",
              "    .dataframe tbody tr th:only-of-type {\n",
              "        vertical-align: middle;\n",
              "    }\n",
              "\n",
              "    .dataframe tbody tr th {\n",
              "        vertical-align: top;\n",
              "    }\n",
              "\n",
              "    .dataframe thead th {\n",
              "        text-align: right;\n",
              "    }\n",
              "</style>\n",
              "<table border=\"1\" class=\"dataframe\">\n",
              "  <thead>\n",
              "    <tr style=\"text-align: right;\">\n",
              "      <th></th>\n",
              "      <th>Feature Importances</th>\n",
              "    </tr>\n",
              "  </thead>\n",
              "  <tbody>\n",
              "    <tr>\n",
              "      <th>0</th>\n",
              "      <td>0.0</td>\n",
              "    </tr>\n",
              "    <tr>\n",
              "      <th>1</th>\n",
              "      <td>0.0</td>\n",
              "    </tr>\n",
              "    <tr>\n",
              "      <th>2</th>\n",
              "      <td>0.0</td>\n",
              "    </tr>\n",
              "    <tr>\n",
              "      <th>3</th>\n",
              "      <td>0.0</td>\n",
              "    </tr>\n",
              "    <tr>\n",
              "      <th>4</th>\n",
              "      <td>0.0</td>\n",
              "    </tr>\n",
              "    <tr>\n",
              "      <th>...</th>\n",
              "      <td>...</td>\n",
              "    </tr>\n",
              "    <tr>\n",
              "      <th>195</th>\n",
              "      <td>0.0</td>\n",
              "    </tr>\n",
              "    <tr>\n",
              "      <th>196</th>\n",
              "      <td>0.0</td>\n",
              "    </tr>\n",
              "    <tr>\n",
              "      <th>197</th>\n",
              "      <td>0.0</td>\n",
              "    </tr>\n",
              "    <tr>\n",
              "      <th>198</th>\n",
              "      <td>0.0</td>\n",
              "    </tr>\n",
              "    <tr>\n",
              "      <th>199</th>\n",
              "      <td>0.0</td>\n",
              "    </tr>\n",
              "  </tbody>\n",
              "</table>\n",
              "<p>200 rows × 1 columns</p>\n",
              "</div>"
            ],
            "text/plain": [
              "     Feature Importances\n",
              "0                    0.0\n",
              "1                    0.0\n",
              "2                    0.0\n",
              "3                    0.0\n",
              "4                    0.0\n",
              "..                   ...\n",
              "195                  0.0\n",
              "196                  0.0\n",
              "197                  0.0\n",
              "198                  0.0\n",
              "199                  0.0\n",
              "\n",
              "[200 rows x 1 columns]"
            ]
          },
          "metadata": {
            "tags": []
          },
          "execution_count": 45
        }
      ]
    },
    {
      "cell_type": "code",
      "metadata": {
        "id": "Qc9sGhCgB-DP",
        "outputId": "b587e3ba-1788-467b-87d5-e3b336578250",
        "colab": {
          "base_uri": "https://localhost:8080/",
          "height": 343
        }
      },
      "source": [
        "features_df = features_df.sort_values(\"Feature Importances\", ascending=False)\n",
        "features_df = features_df.reset_index()\n",
        "features_df = features_df.rename(columns={\"index\":\"Columns\"})\n",
        "features_df.head(10)"
      ],
      "execution_count": null,
      "outputs": [
        {
          "output_type": "execute_result",
          "data": {
            "text/html": [
              "<div>\n",
              "<style scoped>\n",
              "    .dataframe tbody tr th:only-of-type {\n",
              "        vertical-align: middle;\n",
              "    }\n",
              "\n",
              "    .dataframe tbody tr th {\n",
              "        vertical-align: top;\n",
              "    }\n",
              "\n",
              "    .dataframe thead th {\n",
              "        text-align: right;\n",
              "    }\n",
              "</style>\n",
              "<table border=\"1\" class=\"dataframe\">\n",
              "  <thead>\n",
              "    <tr style=\"text-align: right;\">\n",
              "      <th></th>\n",
              "      <th>Columns</th>\n",
              "      <th>Feature Importances</th>\n",
              "    </tr>\n",
              "  </thead>\n",
              "  <tbody>\n",
              "    <tr>\n",
              "      <th>0</th>\n",
              "      <td>86</td>\n",
              "      <td>0.297780</td>\n",
              "    </tr>\n",
              "    <tr>\n",
              "      <th>1</th>\n",
              "      <td>185</td>\n",
              "      <td>0.276984</td>\n",
              "    </tr>\n",
              "    <tr>\n",
              "      <th>2</th>\n",
              "      <td>167</td>\n",
              "      <td>0.145118</td>\n",
              "    </tr>\n",
              "    <tr>\n",
              "      <th>3</th>\n",
              "      <td>105</td>\n",
              "      <td>0.106976</td>\n",
              "    </tr>\n",
              "    <tr>\n",
              "      <th>4</th>\n",
              "      <td>58</td>\n",
              "      <td>0.088137</td>\n",
              "    </tr>\n",
              "    <tr>\n",
              "      <th>5</th>\n",
              "      <td>38</td>\n",
              "      <td>0.064846</td>\n",
              "    </tr>\n",
              "    <tr>\n",
              "      <th>6</th>\n",
              "      <td>190</td>\n",
              "      <td>0.020160</td>\n",
              "    </tr>\n",
              "    <tr>\n",
              "      <th>7</th>\n",
              "      <td>0</td>\n",
              "      <td>0.000000</td>\n",
              "    </tr>\n",
              "    <tr>\n",
              "      <th>8</th>\n",
              "      <td>136</td>\n",
              "      <td>0.000000</td>\n",
              "    </tr>\n",
              "    <tr>\n",
              "      <th>9</th>\n",
              "      <td>129</td>\n",
              "      <td>0.000000</td>\n",
              "    </tr>\n",
              "  </tbody>\n",
              "</table>\n",
              "</div>"
            ],
            "text/plain": [
              "   Columns  Feature Importances\n",
              "0       86             0.297780\n",
              "1      185             0.276984\n",
              "2      167             0.145118\n",
              "3      105             0.106976\n",
              "4       58             0.088137\n",
              "5       38             0.064846\n",
              "6      190             0.020160\n",
              "7        0             0.000000\n",
              "8      136             0.000000\n",
              "9      129             0.000000"
            ]
          },
          "metadata": {
            "tags": []
          },
          "execution_count": 46
        }
      ]
    },
    {
      "cell_type": "markdown",
      "metadata": {
        "id": "SvG8mr7LmfU5"
      },
      "source": [
        "Model Evaluation Metrics"
      ]
    },
    {
      "cell_type": "code",
      "metadata": {
        "id": "lz3kYEaCmgzM"
      },
      "source": [
        "y_pred = clf.predict(X_test)"
      ],
      "execution_count": null,
      "outputs": []
    },
    {
      "cell_type": "code",
      "metadata": {
        "id": "kg_ygyzc5tBg",
        "outputId": "59e08caa-05c2-4c11-b89f-5bb773733c28",
        "colab": {
          "base_uri": "https://localhost:8080/",
          "height": 34
        }
      },
      "source": [
        "# accuracy = correctly predicted observations / total observations\n",
        "acc = accuracy_score(y_test, y_pred)\n",
        "acc"
      ],
      "execution_count": null,
      "outputs": [
        {
          "output_type": "execute_result",
          "data": {
            "text/plain": [
              "0.7518796992481203"
            ]
          },
          "metadata": {
            "tags": []
          },
          "execution_count": 72
        }
      ]
    },
    {
      "cell_type": "code",
      "metadata": {
        "id": "-BBp139P5wde",
        "outputId": "204e0d3a-a5ce-4c2f-e55b-c0d8d3909f65",
        "colab": {
          "base_uri": "https://localhost:8080/",
          "height": 34
        }
      },
      "source": [
        "# precision = true_positives / all_predicted_positives\n",
        "prec = precision_score(y_test, y_pred)\n",
        "prec\n",
        "#EX: of all passengers that were labeled as survived, how many actually survived?"
      ],
      "execution_count": null,
      "outputs": [
        {
          "output_type": "execute_result",
          "data": {
            "text/plain": [
              "0.47368421052631576"
            ]
          },
          "metadata": {
            "tags": []
          },
          "execution_count": 73
        }
      ]
    },
    {
      "cell_type": "code",
      "metadata": {
        "id": "qRGKMinL5x5Z",
        "outputId": "bf89c933-361c-4754-eb73-e4b7f38483ca",
        "colab": {
          "base_uri": "https://localhost:8080/",
          "height": 34
        }
      },
      "source": [
        "# recall = true_positives / all_actual_positives\n",
        "recall = recall_score(y_test, y_pred)\n",
        "recall\n",
        "#EX: Of all the passengers that truly survived, how many did we label?"
      ],
      "execution_count": null,
      "outputs": [
        {
          "output_type": "execute_result",
          "data": {
            "text/plain": [
              "0.5806451612903226"
            ]
          },
          "metadata": {
            "tags": []
          },
          "execution_count": 74
        }
      ]
    },
    {
      "cell_type": "code",
      "metadata": {
        "id": "HosD6wHU514h",
        "outputId": "51aa350a-e150-4887-e034-ddef47bee83e",
        "colab": {
          "base_uri": "https://localhost:8080/",
          "height": 34
        }
      },
      "source": [
        "# f1 score = weighted average of precision and recall\n",
        "f1 = f1_score(y_test, y_pred)\n",
        "f1"
      ],
      "execution_count": null,
      "outputs": [
        {
          "output_type": "execute_result",
          "data": {
            "text/plain": [
              "0.5217391304347826"
            ]
          },
          "metadata": {
            "tags": []
          },
          "execution_count": 75
        }
      ]
    },
    {
      "cell_type": "code",
      "metadata": {
        "id": "nl7-Pfq_-Djp",
        "outputId": "7e150a14-8b5e-4f1d-9514-8c702cc5a88e",
        "colab": {
          "base_uri": "https://localhost:8080/",
          "height": 34
        }
      },
      "source": [
        "# cross entropy loss\n",
        "cross_entropy_loss = log_loss(y_test, y_pred)\n",
        "cross_entropy_loss"
      ],
      "execution_count": null,
      "outputs": [
        {
          "output_type": "execute_result",
          "data": {
            "text/plain": [
              "8.56989182692223"
            ]
          },
          "metadata": {
            "tags": []
          },
          "execution_count": 76
        }
      ]
    },
    {
      "cell_type": "markdown",
      "metadata": {
        "id": "YX1uI8Uvmjdd"
      },
      "source": [
        "Cross-Validated Decision-Tree, Hypertuning Max-Depth Parameter"
      ]
    },
    {
      "cell_type": "code",
      "metadata": {
        "id": "Rz4J93-emoBT",
        "outputId": "feb6ab1c-6e58-4a07-97b0-8c2a6593b34b",
        "colab": {
          "base_uri": "https://localhost:8080/",
          "height": 101
        }
      },
      "source": [
        "#hyperparameter tuning is just adjusting our model (EX: clf) to give us the best results (EX: changing max depth of our decision tree)\n",
        "for depth in [2, 3, 4, 5, 6]:\n",
        "  clf = tree.DecisionTreeClassifier(max_depth=depth)\n",
        "  clf = clf.fit(X_train, y_train)\n",
        "  scores = cross_val_score(clf, X_train_res, y_train_res, scoring='f1', cv=5)\n",
        "  print('mean cross validated score for depth {}: {}'.format(depth, np.mean(scores)))"
      ],
      "execution_count": null,
      "outputs": [
        {
          "output_type": "stream",
          "text": [
            "mean cross validated score for depth 2: 0.6632786782337708\n",
            "mean cross validated score for depth 3: 0.6982832549440989\n",
            "mean cross validated score for depth 4: 0.7646523316905429\n",
            "mean cross validated score for depth 5: 0.7854056939713343\n",
            "mean cross validated score for depth 6: 0.8031978778173684\n"
          ],
          "name": "stdout"
        }
      ]
    },
    {
      "cell_type": "code",
      "metadata": {
        "id": "j6jssNKiG5Ib"
      },
      "source": [
        "#underfitting: model function does not resemble the true function enough (passes through the true function with no regard for the data)\n",
        "#overfitting: model function captures lots of training data points and resembles true function's curve but just memorized training data\n",
        "#and cannot be generalized for other types of data we'd input"
      ],
      "execution_count": null,
      "outputs": []
    },
    {
      "cell_type": "markdown",
      "metadata": {
        "id": "UH3uzIbi75ze"
      },
      "source": [
        "# Random Forest Regressor\n",
        "- guide: https://towardsdatascience.com/random-forest-in-python-24d0893d51c0"
      ]
    },
    {
      "cell_type": "markdown",
      "metadata": {
        "id": "SH_gafR7YsrJ"
      },
      "source": [
        "Train Model"
      ]
    },
    {
      "cell_type": "code",
      "metadata": {
        "id": "2eNo6sA6YuVl"
      },
      "source": [
        "# Instantiate model\n",
        "rf = RandomForestRegressor(n_estimators= 5, random_state=42)\n",
        "\n",
        "# Train the model on training data\n",
        "rf.fit(X_train, y_train);"
      ],
      "execution_count": null,
      "outputs": []
    },
    {
      "cell_type": "code",
      "metadata": {
        "id": "VvYe4khHarCw",
        "outputId": "8e444a13-6616-43f1-f5a4-3bdfe04980dc",
        "colab": {
          "base_uri": "https://localhost:8080/",
          "height": 34
        }
      },
      "source": [
        "# train error\n",
        "y_train_pred = rf.predict(X_train)\n",
        "train_acc = rf.score(X_train, y_train)\n",
        "train_acc"
      ],
      "execution_count": null,
      "outputs": [
        {
          "output_type": "execute_result",
          "data": {
            "text/plain": [
              "0.7719853163487618"
            ]
          },
          "metadata": {
            "tags": []
          },
          "execution_count": 83
        }
      ]
    },
    {
      "cell_type": "code",
      "metadata": {
        "id": "wxfN8GWPau9p",
        "outputId": "7b9bb82a-2e1f-4af0-86dd-4877a5ac0189",
        "colab": {
          "base_uri": "https://localhost:8080/",
          "height": 34
        }
      },
      "source": [
        "# test error\n",
        "y_pred = rf.predict(X_test)\n",
        "test_acc = rf.score(X_test, y_test)\n",
        "test_acc"
      ],
      "execution_count": null,
      "outputs": [
        {
          "output_type": "execute_result",
          "data": {
            "text/plain": [
              "0.11128274951557704"
            ]
          },
          "metadata": {
            "tags": []
          },
          "execution_count": 84
        }
      ]
    },
    {
      "cell_type": "markdown",
      "metadata": {
        "id": "YSWubcq2ph0H"
      },
      "source": [
        "Model is definitely overfitting given the large distance between training and testing error."
      ]
    },
    {
      "cell_type": "markdown",
      "metadata": {
        "id": "byutuYbdguUA"
      },
      "source": [
        "Plot tree"
      ]
    },
    {
      "cell_type": "code",
      "metadata": {
        "id": "1pp0Y3L6cDQZ"
      },
      "source": [
        "# Pull out one tree from the forest\n",
        "tree = rf.estimators_[0]\n",
        "\n",
        "# Export the image to a dot file\n",
        "export_graphviz(tree, out_file = 'tree.dot', feature_names = list(X.columns), rounded = True, precision = 1)\n",
        "\n",
        "# Use dot file to create a graph\n",
        "(graph, ) = pydot.graph_from_dot_file('tree.dot')\n",
        "\n",
        "# Write graph to a png file\n",
        "graph.write_png('tree.png'); "
      ],
      "execution_count": null,
      "outputs": []
    },
    {
      "cell_type": "code",
      "metadata": {
        "id": "jZhCkL81dD5h",
        "outputId": "11faa05e-01e7-45e2-f270-945607a7c111",
        "colab": {
          "base_uri": "https://localhost:8080/",
          "height": 1000
        }
      },
      "source": [
        "Image(filename = 'tree.png')\n",
        "#different tree bc pulled out a random one from the forest"
      ],
      "execution_count": null,
      "outputs": [
        {
          "output_type": "execute_result",
          "data": {
            "image/png": "[encoded data removed]",
            "text/plain": [
              "<IPython.core.display.Image object>"
            ]
          },
          "metadata": {
            "tags": []
          },
          "execution_count": 27
        }
      ]
    },
    {
      "cell_type": "markdown",
      "metadata": {
        "id": "9mCgi16maZHv"
      },
      "source": [
        "Make Predictions"
      ]
    },
    {
      "cell_type": "code",
      "metadata": {
        "id": "ixdSpszFvakW",
        "outputId": "613863a4-b44e-47f8-b717-fc81c6a2525a",
        "colab": {
          "base_uri": "https://localhost:8080/",
          "height": 34
        }
      },
      "source": [
        "mae = mean_absolute_error(y_test, y_pred)\n",
        "mae"
      ],
      "execution_count": null,
      "outputs": [
        {
          "output_type": "execute_result",
          "data": {
            "text/plain": [
              "0.2650125313283208"
            ]
          },
          "metadata": {
            "tags": []
          },
          "execution_count": 28
        }
      ]
    },
    {
      "cell_type": "code",
      "metadata": {
        "id": "ELzSWz4Mvaxi",
        "outputId": "c0961715-05d3-4b94-fb86-af76648db806",
        "colab": {
          "base_uri": "https://localhost:8080/",
          "height": 34
        }
      },
      "source": [
        "# Calculate mean absolute percentage error (MAPE)\n",
        "mape = np.mean(100 * (mae / y_test))\n",
        "mape"
      ],
      "execution_count": null,
      "outputs": [
        {
          "output_type": "execute_result",
          "data": {
            "text/plain": [
              "inf"
            ]
          },
          "metadata": {
            "tags": []
          },
          "execution_count": 29
        }
      ]
    },
    {
      "cell_type": "code",
      "metadata": {
        "id": "bYH8VV_JZMYN",
        "outputId": "52b194bf-ceb5-491f-e7e3-471b4bbe898f",
        "colab": {
          "base_uri": "https://localhost:8080/",
          "height": 359
        }
      },
      "source": [
        "features = rf.feature_importances_\n",
        "features_df = pd.DataFrame(features)\n",
        "features_df.rename(columns = {0:'Feature Importances'}, inplace = True) \n",
        "features_df.head(10)"
      ],
      "execution_count": null,
      "outputs": [
        {
          "output_type": "execute_result",
          "data": {
            "text/html": [
              "<div>\n",
              "<style scoped>\n",
              "    .dataframe tbody tr th:only-of-type {\n",
              "        vertical-align: middle;\n",
              "    }\n",
              "\n",
              "    .dataframe tbody tr th {\n",
              "        vertical-align: top;\n",
              "    }\n",
              "\n",
              "    .dataframe thead th {\n",
              "        text-align: right;\n",
              "    }\n",
              "</style>\n",
              "<table border=\"1\" class=\"dataframe\">\n",
              "  <thead>\n",
              "    <tr style=\"text-align: right;\">\n",
              "      <th></th>\n",
              "      <th>Feature Importances</th>\n",
              "    </tr>\n",
              "  </thead>\n",
              "  <tbody>\n",
              "    <tr>\n",
              "      <th>0</th>\n",
              "      <td>0.038660</td>\n",
              "    </tr>\n",
              "    <tr>\n",
              "      <th>1</th>\n",
              "      <td>0.000000</td>\n",
              "    </tr>\n",
              "    <tr>\n",
              "      <th>2</th>\n",
              "      <td>0.000000</td>\n",
              "    </tr>\n",
              "    <tr>\n",
              "      <th>3</th>\n",
              "      <td>0.000000</td>\n",
              "    </tr>\n",
              "    <tr>\n",
              "      <th>4</th>\n",
              "      <td>0.008058</td>\n",
              "    </tr>\n",
              "    <tr>\n",
              "      <th>5</th>\n",
              "      <td>0.000000</td>\n",
              "    </tr>\n",
              "    <tr>\n",
              "      <th>6</th>\n",
              "      <td>0.000000</td>\n",
              "    </tr>\n",
              "    <tr>\n",
              "      <th>7</th>\n",
              "      <td>0.002867</td>\n",
              "    </tr>\n",
              "    <tr>\n",
              "      <th>8</th>\n",
              "      <td>0.000000</td>\n",
              "    </tr>\n",
              "    <tr>\n",
              "      <th>9</th>\n",
              "      <td>0.028405</td>\n",
              "    </tr>\n",
              "  </tbody>\n",
              "</table>\n",
              "</div>"
            ],
            "text/plain": [
              "   Feature Importances\n",
              "0             0.038660\n",
              "1             0.000000\n",
              "2             0.000000\n",
              "3             0.000000\n",
              "4             0.008058\n",
              "5             0.000000\n",
              "6             0.000000\n",
              "7             0.002867\n",
              "8             0.000000\n",
              "9             0.028405"
            ]
          },
          "metadata": {
            "tags": []
          },
          "execution_count": 31
        }
      ]
    },
    {
      "cell_type": "code",
      "metadata": {
        "id": "o36ugHgL_yxF",
        "outputId": "db70333f-ec56-4e07-b5b6-4d3b4c5582eb",
        "colab": {
          "base_uri": "https://localhost:8080/",
          "height": 359
        }
      },
      "source": [
        "features_df = features_df.sort_values(\"Feature Importances\", ascending=False)\n",
        "features_df = features_df.reset_index()\n",
        "features_df = features_df.rename(columns={\"index\":\"Columns\"})\n",
        "features_df.head(10)"
      ],
      "execution_count": null,
      "outputs": [
        {
          "output_type": "execute_result",
          "data": {
            "text/html": [
              "<div>\n",
              "<style scoped>\n",
              "    .dataframe tbody tr th:only-of-type {\n",
              "        vertical-align: middle;\n",
              "    }\n",
              "\n",
              "    .dataframe tbody tr th {\n",
              "        vertical-align: top;\n",
              "    }\n",
              "\n",
              "    .dataframe thead th {\n",
              "        text-align: right;\n",
              "    }\n",
              "</style>\n",
              "<table border=\"1\" class=\"dataframe\">\n",
              "  <thead>\n",
              "    <tr style=\"text-align: right;\">\n",
              "      <th></th>\n",
              "      <th>Columns</th>\n",
              "      <th>Feature Importances</th>\n",
              "    </tr>\n",
              "  </thead>\n",
              "  <tbody>\n",
              "    <tr>\n",
              "      <th>0</th>\n",
              "      <td>0</td>\n",
              "      <td>0.038660</td>\n",
              "    </tr>\n",
              "    <tr>\n",
              "      <th>1</th>\n",
              "      <td>88</td>\n",
              "      <td>0.036704</td>\n",
              "    </tr>\n",
              "    <tr>\n",
              "      <th>2</th>\n",
              "      <td>15</td>\n",
              "      <td>0.036132</td>\n",
              "    </tr>\n",
              "    <tr>\n",
              "      <th>3</th>\n",
              "      <td>86</td>\n",
              "      <td>0.033938</td>\n",
              "    </tr>\n",
              "    <tr>\n",
              "      <th>4</th>\n",
              "      <td>23</td>\n",
              "      <td>0.032823</td>\n",
              "    </tr>\n",
              "    <tr>\n",
              "      <th>5</th>\n",
              "      <td>34</td>\n",
              "      <td>0.032671</td>\n",
              "    </tr>\n",
              "    <tr>\n",
              "      <th>6</th>\n",
              "      <td>178</td>\n",
              "      <td>0.031345</td>\n",
              "    </tr>\n",
              "    <tr>\n",
              "      <th>7</th>\n",
              "      <td>91</td>\n",
              "      <td>0.030674</td>\n",
              "    </tr>\n",
              "    <tr>\n",
              "      <th>8</th>\n",
              "      <td>9</td>\n",
              "      <td>0.028405</td>\n",
              "    </tr>\n",
              "    <tr>\n",
              "      <th>9</th>\n",
              "      <td>183</td>\n",
              "      <td>0.027431</td>\n",
              "    </tr>\n",
              "  </tbody>\n",
              "</table>\n",
              "</div>"
            ],
            "text/plain": [
              "   Columns  Feature Importances\n",
              "0        0             0.038660\n",
              "1       88             0.036704\n",
              "2       15             0.036132\n",
              "3       86             0.033938\n",
              "4       23             0.032823\n",
              "5       34             0.032671\n",
              "6      178             0.031345\n",
              "7       91             0.030674\n",
              "8        9             0.028405\n",
              "9      183             0.027431"
            ]
          },
          "metadata": {
            "tags": []
          },
          "execution_count": 32
        }
      ]
    },
    {
      "cell_type": "markdown",
      "metadata": {
        "id": "e4hr0MlWe7ou"
      },
      "source": [
        "Evaluation Metrics"
      ]
    },
    {
      "cell_type": "code",
      "metadata": {
        "id": "-UImf38ae9VE"
      },
      "source": [
        "y_pred = rf.predict(X_test)"
      ],
      "execution_count": null,
      "outputs": []
    },
    {
      "cell_type": "code",
      "metadata": {
        "id": "HWlnVaYjfQ54",
        "outputId": "e0d07b5e-1395-4954-98ac-7dd4c54c8f56",
        "colab": {
          "base_uri": "https://localhost:8080/",
          "height": 34
        }
      },
      "source": [
        "acc = accuracy_score(y_test, y_pred.round())\n",
        "acc"
      ],
      "execution_count": null,
      "outputs": [
        {
          "output_type": "execute_result",
          "data": {
            "text/plain": [
              "0.7894736842105263"
            ]
          },
          "metadata": {
            "tags": []
          },
          "execution_count": 86
        }
      ]
    },
    {
      "cell_type": "code",
      "metadata": {
        "id": "XB0WdIemf3Hf",
        "outputId": "21e5c4ff-7b56-4338-b830-5fed5012a3de",
        "colab": {
          "base_uri": "https://localhost:8080/",
          "height": 34
        }
      },
      "source": [
        "prec = precision_score(y_test, y_pred.round())\n",
        "prec"
      ],
      "execution_count": null,
      "outputs": [
        {
          "output_type": "execute_result",
          "data": {
            "text/plain": [
              "0.5652173913043478"
            ]
          },
          "metadata": {
            "tags": []
          },
          "execution_count": 87
        }
      ]
    },
    {
      "cell_type": "code",
      "metadata": {
        "id": "yI9nxX21f89y",
        "outputId": "d67215af-d11a-487b-b372-acafaaedc8b1",
        "colab": {
          "base_uri": "https://localhost:8080/",
          "height": 34
        }
      },
      "source": [
        "recall = recall_score(y_test, y_pred.round())\n",
        "recall"
      ],
      "execution_count": null,
      "outputs": [
        {
          "output_type": "execute_result",
          "data": {
            "text/plain": [
              "0.41935483870967744"
            ]
          },
          "metadata": {
            "tags": []
          },
          "execution_count": 88
        }
      ]
    },
    {
      "cell_type": "code",
      "metadata": {
        "id": "mzWYYRklgAVr",
        "outputId": "4f3f7bd2-4b61-4190-86b7-98a7330dd8c0",
        "colab": {
          "base_uri": "https://localhost:8080/",
          "height": 34
        }
      },
      "source": [
        "f1 = f1_score(y_test, y_pred.round())\n",
        "f1"
      ],
      "execution_count": null,
      "outputs": [
        {
          "output_type": "execute_result",
          "data": {
            "text/plain": [
              "0.4814814814814815"
            ]
          },
          "metadata": {
            "tags": []
          },
          "execution_count": 89
        }
      ]
    },
    {
      "cell_type": "code",
      "metadata": {
        "id": "DfTMLjZCAcnU",
        "outputId": "d26899db-1aa9-4e8d-f87c-e1b6eb6e0f01",
        "colab": {
          "base_uri": "https://localhost:8080/",
          "height": 34
        }
      },
      "source": [
        "cross_entropy_loss = log_loss(y_test, y_pred)\n",
        "cross_entropy_loss"
      ],
      "execution_count": null,
      "outputs": [
        {
          "output_type": "execute_result",
          "data": {
            "text/plain": [
              "2.130550190759088"
            ]
          },
          "metadata": {
            "tags": []
          },
          "execution_count": 38
        }
      ]
    },
    {
      "cell_type": "markdown",
      "metadata": {
        "id": "qEJJwYd9eHu2"
      },
      "source": [
        "Hyperparameter Tuning and Cross Val Score -- Attribute Bagging"
      ]
    },
    {
      "cell_type": "code",
      "metadata": {
        "id": "u9k7A9U41ss1",
        "outputId": "484ac30a-ac6b-4730-eb4a-d1bb457ba5f6",
        "colab": {
          "base_uri": "https://localhost:8080/",
          "height": 168
        }
      },
      "source": [
        "depths = np.arange(1, 10)\n",
        "for depth in depths:\n",
        "  rf_new = RandomForestRegressor(max_depth=depth, max_features=10)\n",
        "  rf_new = rf_new.fit(X_train_res, y_train_res)\n",
        "  scores = cross_val_score(rf_new, X_train, y_train, cv=5)\n",
        "  print('mean cross validated score for 10 randomly selected features and depth {}: {}'.format(depth, np.mean(scores)))"
      ],
      "execution_count": null,
      "outputs": [
        {
          "output_type": "stream",
          "text": [
            "mean cross validated score for 10 randomly selected features and depth 1: 0.07019535704695463\n",
            "mean cross validated score for 10 randomly selected features and depth 2: 0.12086340139269106\n",
            "mean cross validated score for 10 randomly selected features and depth 3: 0.17235831036327792\n",
            "mean cross validated score for 10 randomly selected features and depth 4: 0.21350281545751057\n",
            "mean cross validated score for 10 randomly selected features and depth 5: 0.24637390431452535\n",
            "mean cross validated score for 10 randomly selected features and depth 6: 0.2736405224168859\n",
            "mean cross validated score for 10 randomly selected features and depth 7: 0.270100059355317\n",
            "mean cross validated score for 10 randomly selected features and depth 8: 0.2901166236177327\n",
            "mean cross validated score for 10 randomly selected features and depth 9: 0.29128840456316285\n"
          ],
          "name": "stdout"
        }
      ]
    },
    {
      "cell_type": "code",
      "metadata": {
        "id": "s25I-JWirqDn",
        "outputId": "55424404-8f69-4efc-aed5-3c8896101a93",
        "colab": {
          "base_uri": "https://localhost:8080/",
          "height": 187
        }
      },
      "source": [
        "depths = np.arange(90, 100)\n",
        "for depth in depths:\n",
        "  rf_new = RandomForestRegressor(max_depth=depth, max_features=10)\n",
        "  rf_new = rf_new.fit(X_train, y_train)\n",
        "  scores = cross_val_score(rf_new, X_train, y_train, cv=5)\n",
        "  print('mean cross validated score for 10 randomly selected features and depth {}: {}'.format(depth, np.mean(scores)))"
      ],
      "execution_count": null,
      "outputs": [
        {
          "output_type": "stream",
          "text": [
            "mean cross validated score for 10 randomly selected features and depth 90: 0.2665405089873073\n",
            "mean cross validated score for 10 randomly selected features and depth 91: 0.26656708855305544\n",
            "mean cross validated score for 10 randomly selected features and depth 92: 0.28876903340145055\n",
            "mean cross validated score for 10 randomly selected features and depth 93: 0.27443233158815755\n",
            "mean cross validated score for 10 randomly selected features and depth 94: 0.2760054466448697\n",
            "mean cross validated score for 10 randomly selected features and depth 95: 0.27045236262866806\n",
            "mean cross validated score for 10 randomly selected features and depth 96: 0.27127240752993964\n",
            "mean cross validated score for 10 randomly selected features and depth 97: 0.2666397077991901\n",
            "mean cross validated score for 10 randomly selected features and depth 98: 0.28300353040420845\n",
            "mean cross validated score for 10 randomly selected features and depth 99: 0.27243961279982376\n"
          ],
          "name": "stdout"
        }
      ]
    },
    {
      "cell_type": "markdown",
      "metadata": {
        "id": "GsSiUvIJEfGc"
      },
      "source": [
        "## To Ameliorate Overfitting in Random Forest: Reducing Number of Features"
      ]
    },
    {
      "cell_type": "markdown",
      "metadata": {
        "id": "WA5NERS0aLmF"
      },
      "source": [
        "Creating new dataframe with top 31 most important features from features_df\n",
        "NOTE: chose 31 because that's when feature importance score started going into 0.00..."
      ]
    },
    {
      "cell_type": "code",
      "metadata": {
        "id": "k9lDVGEwL7uF",
        "outputId": "cea30bac-09aa-42b8-b923-3175b6049288",
        "colab": {
          "base_uri": "https://localhost:8080/",
          "height": 439
        }
      },
      "source": [
        "data_with_vectors2 = data_with_vectors[[0, 88, 15, 86, 23, 34, 178, 91, 9, 183, 191, 185, 89, 180, 140, 199, 105, 184, 83, 155, 136, 60, \n",
        "                                        53, 165, 170, 123, 36, 134, 47, 66, 85, 'Eligibility_under_§_101_(abstract)']]\n",
        "data_with_vectors2"
      ],
      "execution_count": null,
      "outputs": [
        {
          "output_type": "execute_result",
          "data": {
            "text/html": [
              "<div>\n",
              "<style scoped>\n",
              "    .dataframe tbody tr th:only-of-type {\n",
              "        vertical-align: middle;\n",
              "    }\n",
              "\n",
              "    .dataframe tbody tr th {\n",
              "        vertical-align: top;\n",
              "    }\n",
              "\n",
              "    .dataframe thead th {\n",
              "        text-align: right;\n",
              "    }\n",
              "</style>\n",
              "<table border=\"1\" class=\"dataframe\">\n",
              "  <thead>\n",
              "    <tr style=\"text-align: right;\">\n",
              "      <th></th>\n",
              "      <th>0</th>\n",
              "      <th>88</th>\n",
              "      <th>15</th>\n",
              "      <th>86</th>\n",
              "      <th>23</th>\n",
              "      <th>34</th>\n",
              "      <th>178</th>\n",
              "      <th>91</th>\n",
              "      <th>9</th>\n",
              "      <th>183</th>\n",
              "      <th>191</th>\n",
              "      <th>185</th>\n",
              "      <th>89</th>\n",
              "      <th>180</th>\n",
              "      <th>140</th>\n",
              "      <th>199</th>\n",
              "      <th>105</th>\n",
              "      <th>184</th>\n",
              "      <th>83</th>\n",
              "      <th>155</th>\n",
              "      <th>136</th>\n",
              "      <th>60</th>\n",
              "      <th>53</th>\n",
              "      <th>165</th>\n",
              "      <th>170</th>\n",
              "      <th>123</th>\n",
              "      <th>36</th>\n",
              "      <th>134</th>\n",
              "      <th>47</th>\n",
              "      <th>66</th>\n",
              "      <th>85</th>\n",
              "      <th>Eligibility_under_§_101_(abstract)</th>\n",
              "    </tr>\n",
              "  </thead>\n",
              "  <tbody>\n",
              "    <tr>\n",
              "      <th>0</th>\n",
              "      <td>0.039431</td>\n",
              "      <td>0.324643</td>\n",
              "      <td>0.145473</td>\n",
              "      <td>-0.155291</td>\n",
              "      <td>0.098246</td>\n",
              "      <td>0.038833</td>\n",
              "      <td>0.038745</td>\n",
              "      <td>0.027152</td>\n",
              "      <td>0.002637</td>\n",
              "      <td>-0.060890</td>\n",
              "      <td>-0.092225</td>\n",
              "      <td>-0.031107</td>\n",
              "      <td>-0.074407</td>\n",
              "      <td>0.057907</td>\n",
              "      <td>0.159402</td>\n",
              "      <td>0.085238</td>\n",
              "      <td>0.084886</td>\n",
              "      <td>-0.050321</td>\n",
              "      <td>0.131250</td>\n",
              "      <td>0.028440</td>\n",
              "      <td>-0.079900</td>\n",
              "      <td>-0.009393</td>\n",
              "      <td>-0.037032</td>\n",
              "      <td>0.067658</td>\n",
              "      <td>-0.012419</td>\n",
              "      <td>-0.036994</td>\n",
              "      <td>0.048469</td>\n",
              "      <td>0.108500</td>\n",
              "      <td>0.143204</td>\n",
              "      <td>0.137917</td>\n",
              "      <td>0.193197</td>\n",
              "      <td>0.0</td>\n",
              "    </tr>\n",
              "    <tr>\n",
              "      <th>1</th>\n",
              "      <td>-0.023565</td>\n",
              "      <td>0.301479</td>\n",
              "      <td>0.161266</td>\n",
              "      <td>-0.168907</td>\n",
              "      <td>0.037389</td>\n",
              "      <td>0.070656</td>\n",
              "      <td>0.053030</td>\n",
              "      <td>0.018033</td>\n",
              "      <td>0.005171</td>\n",
              "      <td>-0.060964</td>\n",
              "      <td>-0.134112</td>\n",
              "      <td>-0.020107</td>\n",
              "      <td>-0.106214</td>\n",
              "      <td>0.022487</td>\n",
              "      <td>0.246385</td>\n",
              "      <td>0.116687</td>\n",
              "      <td>0.010399</td>\n",
              "      <td>-0.060797</td>\n",
              "      <td>0.139416</td>\n",
              "      <td>-0.014337</td>\n",
              "      <td>-0.115383</td>\n",
              "      <td>-0.001885</td>\n",
              "      <td>-0.090605</td>\n",
              "      <td>0.096335</td>\n",
              "      <td>-0.035288</td>\n",
              "      <td>-0.031936</td>\n",
              "      <td>0.058666</td>\n",
              "      <td>0.095406</td>\n",
              "      <td>0.126885</td>\n",
              "      <td>0.137125</td>\n",
              "      <td>0.245953</td>\n",
              "      <td>1.0</td>\n",
              "    </tr>\n",
              "    <tr>\n",
              "      <th>2</th>\n",
              "      <td>0.012036</td>\n",
              "      <td>0.308293</td>\n",
              "      <td>0.174092</td>\n",
              "      <td>-0.133571</td>\n",
              "      <td>0.090595</td>\n",
              "      <td>0.052147</td>\n",
              "      <td>0.016401</td>\n",
              "      <td>0.030763</td>\n",
              "      <td>-0.015056</td>\n",
              "      <td>-0.051266</td>\n",
              "      <td>-0.130462</td>\n",
              "      <td>-0.006614</td>\n",
              "      <td>-0.105787</td>\n",
              "      <td>0.046965</td>\n",
              "      <td>0.189705</td>\n",
              "      <td>0.064818</td>\n",
              "      <td>0.063855</td>\n",
              "      <td>-0.038989</td>\n",
              "      <td>0.128997</td>\n",
              "      <td>0.030062</td>\n",
              "      <td>-0.053440</td>\n",
              "      <td>-0.009763</td>\n",
              "      <td>-0.021530</td>\n",
              "      <td>0.068639</td>\n",
              "      <td>-0.040948</td>\n",
              "      <td>-0.040641</td>\n",
              "      <td>0.052672</td>\n",
              "      <td>0.094134</td>\n",
              "      <td>0.150498</td>\n",
              "      <td>0.143602</td>\n",
              "      <td>0.234016</td>\n",
              "      <td>0.0</td>\n",
              "    </tr>\n",
              "    <tr>\n",
              "      <th>3</th>\n",
              "      <td>0.011056</td>\n",
              "      <td>0.324132</td>\n",
              "      <td>0.156603</td>\n",
              "      <td>-0.133165</td>\n",
              "      <td>0.087849</td>\n",
              "      <td>0.056251</td>\n",
              "      <td>0.033379</td>\n",
              "      <td>0.044322</td>\n",
              "      <td>-0.018876</td>\n",
              "      <td>-0.070278</td>\n",
              "      <td>-0.102003</td>\n",
              "      <td>-0.027674</td>\n",
              "      <td>-0.113681</td>\n",
              "      <td>0.052304</td>\n",
              "      <td>0.194589</td>\n",
              "      <td>0.085526</td>\n",
              "      <td>0.037587</td>\n",
              "      <td>-0.037772</td>\n",
              "      <td>0.125535</td>\n",
              "      <td>0.020056</td>\n",
              "      <td>-0.075156</td>\n",
              "      <td>-0.006469</td>\n",
              "      <td>-0.036611</td>\n",
              "      <td>0.088779</td>\n",
              "      <td>-0.046227</td>\n",
              "      <td>-0.052272</td>\n",
              "      <td>0.057309</td>\n",
              "      <td>0.085093</td>\n",
              "      <td>0.161511</td>\n",
              "      <td>0.140824</td>\n",
              "      <td>0.225387</td>\n",
              "      <td>0.0</td>\n",
              "    </tr>\n",
              "    <tr>\n",
              "      <th>4</th>\n",
              "      <td>0.024540</td>\n",
              "      <td>0.321873</td>\n",
              "      <td>0.170524</td>\n",
              "      <td>-0.152882</td>\n",
              "      <td>0.105452</td>\n",
              "      <td>0.060869</td>\n",
              "      <td>0.032102</td>\n",
              "      <td>0.029210</td>\n",
              "      <td>0.000309</td>\n",
              "      <td>-0.067996</td>\n",
              "      <td>-0.106702</td>\n",
              "      <td>-0.032931</td>\n",
              "      <td>-0.094270</td>\n",
              "      <td>0.055730</td>\n",
              "      <td>0.178661</td>\n",
              "      <td>0.096252</td>\n",
              "      <td>0.045564</td>\n",
              "      <td>-0.060522</td>\n",
              "      <td>0.128662</td>\n",
              "      <td>0.017328</td>\n",
              "      <td>-0.078578</td>\n",
              "      <td>-0.006659</td>\n",
              "      <td>-0.028066</td>\n",
              "      <td>0.060901</td>\n",
              "      <td>-0.047568</td>\n",
              "      <td>-0.055299</td>\n",
              "      <td>0.048687</td>\n",
              "      <td>0.094840</td>\n",
              "      <td>0.158380</td>\n",
              "      <td>0.124063</td>\n",
              "      <td>0.224378</td>\n",
              "      <td>0.0</td>\n",
              "    </tr>\n",
              "    <tr>\n",
              "      <th>...</th>\n",
              "      <td>...</td>\n",
              "      <td>...</td>\n",
              "      <td>...</td>\n",
              "      <td>...</td>\n",
              "      <td>...</td>\n",
              "      <td>...</td>\n",
              "      <td>...</td>\n",
              "      <td>...</td>\n",
              "      <td>...</td>\n",
              "      <td>...</td>\n",
              "      <td>...</td>\n",
              "      <td>...</td>\n",
              "      <td>...</td>\n",
              "      <td>...</td>\n",
              "      <td>...</td>\n",
              "      <td>...</td>\n",
              "      <td>...</td>\n",
              "      <td>...</td>\n",
              "      <td>...</td>\n",
              "      <td>...</td>\n",
              "      <td>...</td>\n",
              "      <td>...</td>\n",
              "      <td>...</td>\n",
              "      <td>...</td>\n",
              "      <td>...</td>\n",
              "      <td>...</td>\n",
              "      <td>...</td>\n",
              "      <td>...</td>\n",
              "      <td>...</td>\n",
              "      <td>...</td>\n",
              "      <td>...</td>\n",
              "      <td>...</td>\n",
              "    </tr>\n",
              "    <tr>\n",
              "      <th>657</th>\n",
              "      <td>-0.008601</td>\n",
              "      <td>0.286482</td>\n",
              "      <td>0.152345</td>\n",
              "      <td>-0.177214</td>\n",
              "      <td>0.056992</td>\n",
              "      <td>0.059730</td>\n",
              "      <td>0.048336</td>\n",
              "      <td>0.012879</td>\n",
              "      <td>-0.004288</td>\n",
              "      <td>-0.069091</td>\n",
              "      <td>-0.140021</td>\n",
              "      <td>-0.024158</td>\n",
              "      <td>-0.089596</td>\n",
              "      <td>0.008617</td>\n",
              "      <td>0.181793</td>\n",
              "      <td>0.081554</td>\n",
              "      <td>0.066732</td>\n",
              "      <td>-0.054331</td>\n",
              "      <td>0.122967</td>\n",
              "      <td>0.010136</td>\n",
              "      <td>-0.059106</td>\n",
              "      <td>0.010833</td>\n",
              "      <td>-0.042787</td>\n",
              "      <td>0.098268</td>\n",
              "      <td>-0.065367</td>\n",
              "      <td>0.017959</td>\n",
              "      <td>0.060741</td>\n",
              "      <td>0.037059</td>\n",
              "      <td>0.114022</td>\n",
              "      <td>0.117417</td>\n",
              "      <td>0.241724</td>\n",
              "      <td>0.0</td>\n",
              "    </tr>\n",
              "    <tr>\n",
              "      <th>658</th>\n",
              "      <td>0.022674</td>\n",
              "      <td>0.345905</td>\n",
              "      <td>0.197055</td>\n",
              "      <td>-0.138179</td>\n",
              "      <td>0.074388</td>\n",
              "      <td>0.079586</td>\n",
              "      <td>0.049701</td>\n",
              "      <td>0.013343</td>\n",
              "      <td>0.016850</td>\n",
              "      <td>-0.090683</td>\n",
              "      <td>-0.088142</td>\n",
              "      <td>-0.016997</td>\n",
              "      <td>-0.079005</td>\n",
              "      <td>0.025823</td>\n",
              "      <td>0.187116</td>\n",
              "      <td>0.110180</td>\n",
              "      <td>0.052636</td>\n",
              "      <td>-0.040216</td>\n",
              "      <td>0.130463</td>\n",
              "      <td>0.011755</td>\n",
              "      <td>-0.096906</td>\n",
              "      <td>-0.016137</td>\n",
              "      <td>-0.050177</td>\n",
              "      <td>0.094332</td>\n",
              "      <td>-0.031247</td>\n",
              "      <td>-0.000131</td>\n",
              "      <td>0.049308</td>\n",
              "      <td>0.072939</td>\n",
              "      <td>0.148594</td>\n",
              "      <td>0.110395</td>\n",
              "      <td>0.227943</td>\n",
              "      <td>0.0</td>\n",
              "    </tr>\n",
              "    <tr>\n",
              "      <th>659</th>\n",
              "      <td>-0.005414</td>\n",
              "      <td>0.327009</td>\n",
              "      <td>0.185184</td>\n",
              "      <td>-0.144564</td>\n",
              "      <td>0.086838</td>\n",
              "      <td>0.052305</td>\n",
              "      <td>0.070232</td>\n",
              "      <td>0.037410</td>\n",
              "      <td>0.026408</td>\n",
              "      <td>-0.113097</td>\n",
              "      <td>-0.069643</td>\n",
              "      <td>-0.026192</td>\n",
              "      <td>-0.063764</td>\n",
              "      <td>0.046014</td>\n",
              "      <td>0.202938</td>\n",
              "      <td>0.103099</td>\n",
              "      <td>0.049122</td>\n",
              "      <td>-0.052243</td>\n",
              "      <td>0.167467</td>\n",
              "      <td>-0.016476</td>\n",
              "      <td>-0.097797</td>\n",
              "      <td>-0.022042</td>\n",
              "      <td>-0.047388</td>\n",
              "      <td>0.069569</td>\n",
              "      <td>-0.026630</td>\n",
              "      <td>-0.009304</td>\n",
              "      <td>0.058160</td>\n",
              "      <td>0.106623</td>\n",
              "      <td>0.136816</td>\n",
              "      <td>0.131872</td>\n",
              "      <td>0.224399</td>\n",
              "      <td>1.0</td>\n",
              "    </tr>\n",
              "    <tr>\n",
              "      <th>660</th>\n",
              "      <td>0.014721</td>\n",
              "      <td>0.342822</td>\n",
              "      <td>0.173643</td>\n",
              "      <td>-0.177045</td>\n",
              "      <td>0.057154</td>\n",
              "      <td>0.070390</td>\n",
              "      <td>0.043570</td>\n",
              "      <td>0.026843</td>\n",
              "      <td>0.007995</td>\n",
              "      <td>-0.064995</td>\n",
              "      <td>-0.089360</td>\n",
              "      <td>-0.034529</td>\n",
              "      <td>-0.104461</td>\n",
              "      <td>0.043939</td>\n",
              "      <td>0.195084</td>\n",
              "      <td>0.097149</td>\n",
              "      <td>0.036837</td>\n",
              "      <td>-0.045855</td>\n",
              "      <td>0.131543</td>\n",
              "      <td>0.028502</td>\n",
              "      <td>-0.085608</td>\n",
              "      <td>-0.016662</td>\n",
              "      <td>-0.068226</td>\n",
              "      <td>0.092197</td>\n",
              "      <td>-0.064740</td>\n",
              "      <td>-0.007301</td>\n",
              "      <td>0.071838</td>\n",
              "      <td>0.097347</td>\n",
              "      <td>0.131096</td>\n",
              "      <td>0.112729</td>\n",
              "      <td>0.170454</td>\n",
              "      <td>0.0</td>\n",
              "    </tr>\n",
              "    <tr>\n",
              "      <th>661</th>\n",
              "      <td>0.000000</td>\n",
              "      <td>0.000000</td>\n",
              "      <td>0.000000</td>\n",
              "      <td>0.000000</td>\n",
              "      <td>0.000000</td>\n",
              "      <td>0.000000</td>\n",
              "      <td>0.000000</td>\n",
              "      <td>0.000000</td>\n",
              "      <td>0.000000</td>\n",
              "      <td>0.000000</td>\n",
              "      <td>0.000000</td>\n",
              "      <td>0.000000</td>\n",
              "      <td>0.000000</td>\n",
              "      <td>0.000000</td>\n",
              "      <td>0.000000</td>\n",
              "      <td>0.000000</td>\n",
              "      <td>0.000000</td>\n",
              "      <td>0.000000</td>\n",
              "      <td>0.000000</td>\n",
              "      <td>0.000000</td>\n",
              "      <td>0.000000</td>\n",
              "      <td>0.000000</td>\n",
              "      <td>0.000000</td>\n",
              "      <td>0.000000</td>\n",
              "      <td>0.000000</td>\n",
              "      <td>0.000000</td>\n",
              "      <td>0.000000</td>\n",
              "      <td>0.000000</td>\n",
              "      <td>0.000000</td>\n",
              "      <td>0.000000</td>\n",
              "      <td>0.000000</td>\n",
              "      <td>1.0</td>\n",
              "    </tr>\n",
              "  </tbody>\n",
              "</table>\n",
              "<p>662 rows × 32 columns</p>\n",
              "</div>"
            ],
            "text/plain": [
              "            0        88  ...        85  Eligibility_under_§_101_(abstract)\n",
              "0    0.039431  0.324643  ...  0.193197                                 0.0\n",
              "1   -0.023565  0.301479  ...  0.245953                                 1.0\n",
              "2    0.012036  0.308293  ...  0.234016                                 0.0\n",
              "3    0.011056  0.324132  ...  0.225387                                 0.0\n",
              "4    0.024540  0.321873  ...  0.224378                                 0.0\n",
              "..        ...       ...  ...       ...                                 ...\n",
              "657 -0.008601  0.286482  ...  0.241724                                 0.0\n",
              "658  0.022674  0.345905  ...  0.227943                                 0.0\n",
              "659 -0.005414  0.327009  ...  0.224399                                 1.0\n",
              "660  0.014721  0.342822  ...  0.170454                                 0.0\n",
              "661  0.000000  0.000000  ...  0.000000                                 1.0\n",
              "\n",
              "[662 rows x 32 columns]"
            ]
          },
          "metadata": {
            "tags": []
          },
          "execution_count": 58
        }
      ]
    },
    {
      "cell_type": "markdown",
      "metadata": {
        "id": "WpmTPgeiaRoU"
      },
      "source": [
        "Resplitting"
      ]
    },
    {
      "cell_type": "code",
      "metadata": {
        "id": "vMjaY7sdXvy8"
      },
      "source": [
        "important_X = data_with_vectors2.drop(columns=\"Eligibility_under_§_101_(abstract)\")\n",
        "important_Y = data_with_vectors2[\"Eligibility_under_§_101_(abstract)\"]"
      ],
      "execution_count": null,
      "outputs": []
    },
    {
      "cell_type": "code",
      "metadata": {
        "id": "a0rG5GuxZLsJ"
      },
      "source": [
        "X_train2, X_test2, y_train2, y_test2 = train_test_split(important_X, important_Y, test_size=0.2, random_state=42)"
      ],
      "execution_count": null,
      "outputs": []
    },
    {
      "cell_type": "code",
      "metadata": {
        "id": "n_eetr7NZWLP"
      },
      "source": [
        "# Instantiate model\n",
        "rf = RandomForestRegressor(n_estimators= 5, random_state=42)\n",
        "\n",
        "# Train the model on training data\n",
        "rf.fit(X_train2, y_train2);"
      ],
      "execution_count": null,
      "outputs": []
    },
    {
      "cell_type": "code",
      "metadata": {
        "id": "1QEs_6eSZkZm",
        "outputId": "43e867d9-4b14-416b-c6bf-541d9c9764fc",
        "colab": {
          "base_uri": "https://localhost:8080/",
          "height": 34
        }
      },
      "source": [
        "# train error\n",
        "y_train_pred2 = rf.predict(X_train2)\n",
        "train_acc2 = rf.score(X_train2, y_train2)\n",
        "train_acc2"
      ],
      "execution_count": null,
      "outputs": [
        {
          "output_type": "execute_result",
          "data": {
            "text/plain": [
              "0.7880838001867414"
            ]
          },
          "metadata": {
            "tags": []
          },
          "execution_count": 62
        }
      ]
    },
    {
      "cell_type": "code",
      "metadata": {
        "id": "Bv56fVBKZpu4",
        "outputId": "f44e6ec5-73c2-4ebd-aa53-fda8a53444c5",
        "colab": {
          "base_uri": "https://localhost:8080/",
          "height": 34
        }
      },
      "source": [
        "# test error\n",
        "y_pred2 = rf.predict(X_test2)\n",
        "test_acc2 = rf.score(X_test2, y_test2)\n",
        "test_acc2"
      ],
      "execution_count": null,
      "outputs": [
        {
          "output_type": "execute_result",
          "data": {
            "text/plain": [
              "0.01850796210957517"
            ]
          },
          "metadata": {
            "tags": []
          },
          "execution_count": 63
        }
      ]
    },
    {
      "cell_type": "markdown",
      "metadata": {
        "id": "lmhCLRDTuof5"
      },
      "source": [
        "Model Evaluation Metrics"
      ]
    },
    {
      "cell_type": "code",
      "metadata": {
        "id": "jty8Pf8VuMNu"
      },
      "source": [
        "y_pred2 = rf.predict(X_test2)"
      ],
      "execution_count": null,
      "outputs": []
    },
    {
      "cell_type": "code",
      "metadata": {
        "id": "Ce1jtB0bt7zZ",
        "outputId": "96491401-b64c-4d16-e12a-a6d2abff1fc3",
        "colab": {
          "base_uri": "https://localhost:8080/",
          "height": 85
        }
      },
      "source": [
        "acc = accuracy_score(y_test, y_pred2.round())\n",
        "prec = precision_score(y_test, y_pred2.round())\n",
        "recall = recall_score(y_test, y_pred2.round())\n",
        "f1 = f1_score(y_test, y_pred2.round())\n",
        "acc, prec, recall, f1"
      ],
      "execution_count": null,
      "outputs": [
        {
          "output_type": "execute_result",
          "data": {
            "text/plain": [
              "(0.6917293233082706,\n",
              " 0.3611111111111111,\n",
              " 0.41935483870967744,\n",
              " 0.3880597014925373)"
            ]
          },
          "metadata": {
            "tags": []
          },
          "execution_count": 67
        }
      ]
    },
    {
      "cell_type": "markdown",
      "metadata": {
        "id": "seuLBu-McPcb"
      },
      "source": [
        "# Logistic Regression\n",
        "\n",
        "guide: https://www.datacamp.com/community/tutorials/understanding-logistic-regression-python "
      ]
    },
    {
      "cell_type": "code",
      "metadata": {
        "id": "UpoVx1UgcSNU",
        "outputId": "5a293ddf-51d9-4225-a3a5-ca72dabe18d2",
        "colab": {
          "base_uri": "https://localhost:8080/",
          "height": 101
        }
      },
      "source": [
        "# instantiate the model (using the default parameters)\n",
        "logreg = LogisticRegression()\n",
        "\n",
        "# fit the model with data\n",
        "logreg.fit(X_train_res,y_train_res)"
      ],
      "execution_count": null,
      "outputs": [
        {
          "output_type": "execute_result",
          "data": {
            "text/plain": [
              "LogisticRegression(C=1.0, class_weight=None, dual=False, fit_intercept=True,\n",
              "                   intercept_scaling=1, l1_ratio=None, max_iter=100,\n",
              "                   multi_class='auto', n_jobs=None, penalty='l2',\n",
              "                   random_state=None, solver='lbfgs', tol=0.0001, verbose=0,\n",
              "                   warm_start=False)"
            ]
          },
          "metadata": {
            "tags": []
          },
          "execution_count": 24
        }
      ]
    },
    {
      "cell_type": "code",
      "metadata": {
        "id": "WWxkFx16dTYc",
        "outputId": "22ddac1b-7c69-4a1b-951d-559757a1f955",
        "colab": {
          "base_uri": "https://localhost:8080/",
          "height": 34
        }
      },
      "source": [
        "y_train_pred = logreg.predict(X_train_res)\n",
        "train_acc = logreg.score(X_train_res, y_train_res)\n",
        "train_acc"
      ],
      "execution_count": null,
      "outputs": [
        {
          "output_type": "execute_result",
          "data": {
            "text/plain": [
              "0.6879795396419437"
            ]
          },
          "metadata": {
            "tags": []
          },
          "execution_count": 25
        }
      ]
    },
    {
      "cell_type": "code",
      "metadata": {
        "id": "27jvzjzedcSZ",
        "outputId": "e07ea1b9-3ab7-4439-cacb-4df3697c1000",
        "colab": {
          "base_uri": "https://localhost:8080/",
          "height": 34
        }
      },
      "source": [
        "y_pred = logreg.predict(X_test)\n",
        "test_acc = logreg.score(X_test, y_test)\n",
        "test_acc"
      ],
      "execution_count": null,
      "outputs": [
        {
          "output_type": "execute_result",
          "data": {
            "text/plain": [
              "0.706766917293233"
            ]
          },
          "metadata": {
            "tags": []
          },
          "execution_count": 26
        }
      ]
    },
    {
      "cell_type": "markdown",
      "metadata": {
        "id": "9sgOAdnBdk2U"
      },
      "source": [
        "Good distance between training and testing accuracy!"
      ]
    },
    {
      "cell_type": "markdown",
      "metadata": {
        "id": "E23ivfjGd2fA"
      },
      "source": [
        "Model Evaluation Metrics"
      ]
    },
    {
      "cell_type": "code",
      "metadata": {
        "id": "WUsqAgCOe4KU"
      },
      "source": [
        "y_pred = logreg.predict(X_test)"
      ],
      "execution_count": null,
      "outputs": []
    },
    {
      "cell_type": "code",
      "metadata": {
        "id": "pYJun2CPeWJ4",
        "outputId": "969ee96d-49e7-483f-f2c1-fe9b6467003d",
        "colab": {
          "base_uri": "https://localhost:8080/",
          "height": 50
        }
      },
      "source": [
        "#confusion matrix\n",
        "cnf_matrix = metrics.confusion_matrix(y_test, y_pred)\n",
        "cnf_matrix"
      ],
      "execution_count": null,
      "outputs": [
        {
          "output_type": "execute_result",
          "data": {
            "text/plain": [
              "array([[76, 26],\n",
              "       [13, 18]])"
            ]
          },
          "metadata": {
            "tags": []
          },
          "execution_count": 28
        }
      ]
    },
    {
      "cell_type": "code",
      "metadata": {
        "id": "ACLcQ-5be0ai",
        "outputId": "141aa8b1-2d44-4be8-ad0b-085b5244db25",
        "colab": {
          "base_uri": "https://localhost:8080/",
          "height": 342
        }
      },
      "source": [
        "class_names=[0,1] # name  of classes\n",
        "fig, ax = plt.subplots()\n",
        "tick_marks = np.arange(len(class_names))\n",
        "plt.xticks(tick_marks, class_names)\n",
        "plt.yticks(tick_marks, class_names)\n",
        "# create heatmap\n",
        "sns.heatmap(pd.DataFrame(cnf_matrix), annot=True, cmap=\"YlGnBu\" ,fmt='g')\n",
        "ax.xaxis.set_label_position(\"top\")\n",
        "plt.tight_layout()\n",
        "plt.title('Confusion matrix', y=1.1)\n",
        "plt.ylabel('Actual label')\n",
        "plt.xlabel('Predicted label')"
      ],
      "execution_count": null,
      "outputs": [
        {
          "output_type": "execute_result",
          "data": {
            "text/plain": [
              "Text(0.5, 257.44, 'Predicted label')"
            ]
          },
          "metadata": {
            "tags": []
          },
          "execution_count": 29
        },
        {
          "output_type": "display_data",
          "data": {
            "image/png": "[encoded data removed]",
            "text/plain": [
              "<Figure size 432x288 with 2 Axes>"
            ]
          },
          "metadata": {
            "tags": [],
            "needs_background": "light"
          }
        }
      ]
    },
    {
      "cell_type": "code",
      "metadata": {
        "id": "V9Vwfeiiemul",
        "outputId": "1fb08824-8e2b-478b-8022-a3a25bb388e2",
        "colab": {
          "base_uri": "https://localhost:8080/",
          "height": 34
        }
      },
      "source": [
        "acc = accuracy_score(y_test, y_pred)\n",
        "prec = precision_score(y_test, y_pred)\n",
        "recall = recall_score(y_test, y_pred)\n",
        "f1 = f1_score(y_test, y_pred)\n",
        "acc, prec, recall, f1"
      ],
      "execution_count": null,
      "outputs": [
        {
          "output_type": "execute_result",
          "data": {
            "text/plain": [
              "(0.706766917293233, 0.4090909090909091, 0.5806451612903226, 0.4800000000000001)"
            ]
          },
          "metadata": {
            "tags": []
          },
          "execution_count": 30
        }
      ]
    },
    {
      "cell_type": "markdown",
      "metadata": {
        "id": "O2qvqWzagfHa"
      },
      "source": [
        "ROC Curve"
      ]
    },
    {
      "cell_type": "code",
      "metadata": {
        "id": "eD-ADul_gf1p",
        "outputId": "44d1d36c-cad5-4c8f-806a-bd3dc864535f",
        "colab": {
          "base_uri": "https://localhost:8080/",
          "height": 265
        }
      },
      "source": [
        "y_pred_proba = logreg.predict_proba(X_test)[::,1]\n",
        "fpr, tpr, _ = metrics.roc_curve(y_test, y_pred_proba)\n",
        "auc = metrics.roc_auc_score(y_test, y_pred_proba)\n",
        "plt.plot(fpr,tpr,label=\"data 1, auc=\"+str(auc))\n",
        "plt.legend(loc=4)\n",
        "plt.show()"
      ],
      "execution_count": null,
      "outputs": [
        {
          "output_type": "display_data",
          "data": {
            "image/png": "[encoded data removed]",
            "text/plain": [
              "<Figure size 432x288 with 1 Axes>"
            ]
          },
          "metadata": {
            "tags": [],
            "needs_background": "light"
          }
        }
      ]
    },
    {
      "cell_type": "code",
      "metadata": {
        "id": "M5XfH3kMghVI",
        "outputId": "c6d34f82-325a-4a61-9519-203023fc5ec4",
        "colab": {
          "base_uri": "https://localhost:8080/",
          "height": 34
        }
      },
      "source": [
        "mae2 = mean_absolute_error(y_test, y_pred)\n",
        "mae2"
      ],
      "execution_count": null,
      "outputs": [
        {
          "output_type": "execute_result",
          "data": {
            "text/plain": [
              "0.2932330827067669"
            ]
          },
          "metadata": {
            "tags": []
          },
          "execution_count": 32
        }
      ]
    },
    {
      "cell_type": "code",
      "metadata": {
        "id": "HdDG205bhX78",
        "outputId": "d9039d58-133d-43f4-f75c-2cc8cb3449e2",
        "colab": {
          "base_uri": "https://localhost:8080/",
          "height": 34
        }
      },
      "source": [
        "mape2 = np.mean(100 * (mae2 / y_test))\n",
        "mape2"
      ],
      "execution_count": null,
      "outputs": [
        {
          "output_type": "execute_result",
          "data": {
            "text/plain": [
              "inf"
            ]
          },
          "metadata": {
            "tags": []
          },
          "execution_count": 349
        }
      ]
    },
    {
      "cell_type": "markdown",
      "metadata": {
        "id": "hHXNTs3UiZBd"
      },
      "source": [
        "# Statistical Tests\n",
        "\n",
        "guide: featurecomparisons.pdf on AWS Server"
      ]
    },
    {
      "cell_type": "code",
      "metadata": {
        "id": "t97bU6mujO2r"
      },
      "source": [
        "valids = data.loc[data_with_vectors['Eligibility_under_§_101_(abstract)'] == 1]\n",
        "invalids = data.loc[data_with_vectors['Eligibility_under_§_101_(abstract)'] == 0]"
      ],
      "execution_count": null,
      "outputs": []
    },
    {
      "cell_type": "code",
      "metadata": {
        "id": "C9t_VkrAia8T"
      },
      "source": [
        "def prop_diff(data, feature, classes='Eligibility_under_§_101_(abstract)'):\n",
        " '''\n",
        " Computes a single test statistic as the absolute difference\n",
        " in proportion of FEATURE in CLASSES from DATA\n",
        "\n",
        " Args:\n",
        " data : a pandas dataframe including FEATURE and CLASSES\n",
        "as columns\n",
        " feature : the column on which to compute the difference\n",
        " Options:\n",
        " classes : the column which classifies the two patent gro\n",
        "ups (valid\n",
        " and invalid)\n",
        " Returns a float, the absolute difference of FEATURE proporti\n",
        "on in CLASSES\n",
        " '''\n",
        " class_arr = data[classes]\n",
        " props = data[[classes, feature]].groupby(classes).mean()\n",
        " diff = abs(props[feature][0] - props[feature][1])\n",
        " return diff"
      ],
      "execution_count": null,
      "outputs": []
    },
    {
      "cell_type": "code",
      "metadata": {
        "id": "SmiiyBr4i4jg"
      },
      "source": [
        "def test_feature(data, feature, nreps=1000, classes='Eligibility_under_§_101_(abstract)'):\n",
        " '''\n",
        " Tests a single FEATURE for if it has a statistically significant absolute\n",
        " difference in proportions across the two classes of patents (valid and\n",
        " invalid, which are encoded as 1 and 0 respectively in CLASSES)\n",
        "\n",
        " Args:\n",
        " data : a pandas dataframe including FEATURE and CLASSES as columns\n",
        " feature : the column on which to compute the difference\n",
        " Options:\n",
        " classes : the column which classifies the two patent gro\n",
        " classes : the column which classifies the two patent groups (valid and invalid)\n",
        " Returns a float, the p-value quantifying the statistical sig nificance of\n",
        " the absolute difference in FEATURE proportions in CLASSES\n",
        " '''\n",
        "\n",
        " differences = -1*np.ones((nreps,))\n",
        "\n",
        " # get observed test stat\n",
        " obs_test_stat = prop_diff(data, feature, classes=classes)\n",
        " length_feature = data.shape[0]\n",
        "\n",
        " for i in range(nreps):\n",
        "   # reshuffle data\n",
        "   shuffled_features = data[feature].sample(length_feature, replace=True)\n",
        "   shuffled_data = data[[classes]]\n",
        "   shuffled_data.loc[:,feature] = np.array(shuffled_features)\n",
        "   \n",
        "   # get simulated test stat, add it to the differences array\n",
        "   sim_diff = prop_diff(shuffled_data, feature, classes=classes)\n",
        "   differences[i] = sim_diff\n",
        "\n",
        " # calculate p-value of statistical significance between categories\n",
        " p_val = np.count_nonzero(differences >= obs_test_stat) / nreps\n",
        " return p_val"
      ],
      "execution_count": null,
      "outputs": []
    },
    {
      "cell_type": "code",
      "metadata": {
        "id": "pathvnB9j1-O"
      },
      "source": [
        "def kolmogorov_smirnov_test_feature_D(data, feature):\n",
        " valid_data = data.loc[data['Eligibility_under_§_101_(abstract)'] == 1]\n",
        " invalid_data = data.loc[data['Eligibility_under_§_101_(abstract)'] == 0]\n",
        " D, p = ks_2samp(invalid_data[feature], valid_data[feature])\n",
        " return D"
      ],
      "execution_count": null,
      "outputs": []
    },
    {
      "cell_type": "code",
      "metadata": {
        "id": "UCKo8P063dp8"
      },
      "source": [
        "def kolmogorov_smirnov_test_feature_p(data, feature):\n",
        " valid_data = data.loc[data['Eligibility_under_§_101_(abstract)'] == 1]\n",
        " invalid_data = data.loc[data['Eligibility_under_§_101_(abstract)'] == 0]\n",
        " D, p = ks_2samp(invalid_data[feature], valid_data[feature])\n",
        " return p"
      ],
      "execution_count": null,
      "outputs": []
    },
    {
      "cell_type": "code",
      "metadata": {
        "id": "v23xVLC0kNHT",
        "outputId": "36d50b3c-bec3-4f86-9f17-2c7636d21e14",
        "colab": {
          "base_uri": "https://localhost:8080/",
          "height": 34
        }
      },
      "source": [
        "kolmogorov_smirnov_test_feature_D(data_with_vectors, 0)"
      ],
      "execution_count": null,
      "outputs": [
        {
          "output_type": "execute_result",
          "data": {
            "text/plain": [
              "0.23103328252337457"
            ]
          },
          "metadata": {
            "tags": []
          },
          "execution_count": 82
        }
      ]
    },
    {
      "cell_type": "code",
      "metadata": {
        "id": "r7TkENw23h30",
        "outputId": "30b16a3e-0fc2-4794-9387-37a395c2af58",
        "colab": {
          "base_uri": "https://localhost:8080/",
          "height": 34
        }
      },
      "source": [
        "kolmogorov_smirnov_test_feature_p(data_with_vectors, 0)"
      ],
      "execution_count": null,
      "outputs": [
        {
          "output_type": "execute_result",
          "data": {
            "text/plain": [
              "2.161734235617274e-06"
            ]
          },
          "metadata": {
            "tags": []
          },
          "execution_count": 83
        }
      ]
    },
    {
      "cell_type": "code",
      "metadata": {
        "id": "zDrZL534lNi4"
      },
      "source": [
        "arr_features = data_with_vectors.drop(columns = ['Number of headings', 'DETAILED in heading','Number of Paragraphs', \n",
        "                                      'Figure Count','Digit/Decimal Count','Excluding Phrase Count', \n",
        "                                      'Semicolon Count','Number of Backward Citations', \n",
        "                                      'Number of Forward Citations','Wherein Count', 'Said Count', \n",
        "                                      'Examiner Rate','Examiner Count', \"Eligibility_under_§_101_(abstract)\", \"Pre-processed Text\"])"
      ],
      "execution_count": null,
      "outputs": []
    },
    {
      "cell_type": "markdown",
      "metadata": {
        "id": "9LRJ_yHE9Iq4"
      },
      "source": [
        "KS Test"
      ]
    },
    {
      "cell_type": "code",
      "metadata": {
        "id": "zWyJ03TjlZRG",
        "outputId": "1f11e158-f457-4fe3-9841-f5af11ac36b4",
        "colab": {
          "base_uri": "https://localhost:8080/",
          "height": 697
        }
      },
      "source": [
        "pvals_D = list()\n",
        "for feat in arr_features:\n",
        "  p_val = kolmogorov_smirnov_test_feature_D(data_with_vectors, feat)\n",
        "  pvals_D = np.append(pvals_D, p_val)\n",
        "pvals_D"
      ],
      "execution_count": null,
      "outputs": [
        {
          "output_type": "execute_result",
          "data": {
            "text/plain": [
              "array([0.23103328, 0.1204076 , 0.09857532, 0.23557017, 0.10020764,\n",
              "       0.14225188, 0.08188005, 0.06884549, 0.13802705, 0.08652496,\n",
              "       0.18386404, 0.13093366, 0.10011162, 0.09646291, 0.21997912,\n",
              "       0.08767718, 0.16748083, 0.12176387, 0.17350601, 0.10135987,\n",
              "       0.15292197, 0.10805718, 0.147977  , 0.06969766, 0.14628467,\n",
              "       0.12632476, 0.12094771, 0.14356014, 0.11319419, 0.16572848,\n",
              "       0.06650503, 0.16047145, 0.08540874, 0.11044565, 0.15977532,\n",
              "       0.07248221, 0.09395442, 0.22728855, 0.13665879, 0.0882773 ,\n",
              "       0.1586591 , 0.10167193, 0.22391589, 0.10179195, 0.1209117 ,\n",
              "       0.07094591, 0.10282415, 0.13965937, 0.09261015, 0.09912743,\n",
              "       0.16739681, 0.11756304, 0.09807122, 0.25638225, 0.13716288,\n",
              "       0.27409772, 0.18277182, 0.08394445, 0.08100388, 0.13449836,\n",
              "       0.09894739, 0.07680305, 0.1551064 , 0.15040148, 0.10230805,\n",
              "       0.11199395, 0.13983941, 0.15946325, 0.18334794, 0.04901761,\n",
              "       0.08031974, 0.07699509, 0.17267784, 0.1219439 , 0.16081952,\n",
              "       0.12722494, 0.15241787, 0.17997528, 0.12071966, 0.08126793,\n",
              "       0.10238007, 0.09199803, 0.22912491, 0.0622202 , 0.07597489,\n",
              "       0.13952735, 0.36253106, 0.12095971, 0.11703494, 0.18619249,\n",
              "       0.1821477 , 0.28338754, 0.14347612, 0.18178763, 0.08606887,\n",
              "       0.15168573, 0.05942365, 0.10186397, 0.13920328, 0.0632884 ,\n",
              "       0.13120972, 0.16980928, 0.09671496, 0.14575657, 0.10144388,\n",
              "       0.19481018, 0.19078939, 0.122436  , 0.12918132, 0.07077787,\n",
              "       0.14173578, 0.12625275, 0.07779925, 0.09013767, 0.17895508,\n",
              "       0.11601474, 0.16486431, 0.1423719 , 0.14372817, 0.07649099,\n",
              "       0.18784882, 0.05909958, 0.13634672, 0.11506655, 0.19767875,\n",
              "       0.08127993, 0.1444003 , 0.13120972, 0.19298583, 0.16063949,\n",
              "       0.15541846, 0.12747699, 0.15786694, 0.12007153, 0.08338034,\n",
              "       0.14103964, 0.24046713, 0.09519066, 0.12598869, 0.15378614,\n",
              "       0.24619225, 0.06770527, 0.1546023 , 0.09088181, 0.09403843,\n",
              "       0.14189181, 0.20528824, 0.12466844, 0.11854724, 0.15574253,\n",
              "       0.21306576, 0.08135194, 0.11031362, 0.17977124, 0.17284588,\n",
              "       0.17338598, 0.16740881, 0.21462607, 0.17843897, 0.0790835 ,\n",
              "       0.18031134, 0.0862369 , 0.10194798, 0.07440258, 0.09148193,\n",
              "       0.11402235, 0.2102092 , 0.122472  , 0.08412449, 0.08004369,\n",
              "       0.12008354, 0.1821237 , 0.1143104 , 0.22842877, 0.19617845,\n",
              "       0.06840141, 0.18769279, 0.10383235, 0.2402991 , 0.11603874,\n",
              "       0.0872451 , 0.11110578, 0.10857328, 0.15544247, 0.11118979,\n",
              "       0.16863305, 0.17200571, 0.12183588, 0.11419038, 0.12105573,\n",
              "       0.13188185, 0.18667259, 0.1520218 , 0.05828342, 0.11620678,\n",
              "       0.05938764, 0.05219823, 0.08746114, 0.22054323, 0.11824718])"
            ]
          },
          "metadata": {
            "tags": []
          },
          "execution_count": 98
        }
      ]
    },
    {
      "cell_type": "code",
      "metadata": {
        "id": "uCtLlCJX4mlb",
        "outputId": "eb7e9bb6-e8ef-419c-c4c1-41ab1020a9d5",
        "colab": {
          "base_uri": "https://localhost:8080/",
          "height": 867
        }
      },
      "source": [
        "pvals_p = list()\n",
        "for feat in arr_features:\n",
        "  p_val = kolmogorov_smirnov_test_feature_p(data_with_vectors, feat)\n",
        "  pvals_p = np.append(pvals_p, p_val)\n",
        "pvals_p"
      ],
      "execution_count": null,
      "outputs": [
        {
          "output_type": "execute_result",
          "data": {
            "text/plain": [
              "array([2.16173424e-06, 4.71080177e-02, 1.59950198e-01, 1.26263684e-06,\n",
              "       1.46911605e-01, 1.08383158e-02, 3.44820127e-01, 5.60921435e-01,\n",
              "       1.46721778e-02, 2.82280141e-01, 3.33308602e-04, 2.38912543e-02,\n",
              "       1.48023508e-01, 1.77527699e-01, 7.89973953e-06, 2.68350577e-01,\n",
              "       1.45783688e-03, 4.33135935e-02, 8.67568174e-04, 1.38572229e-01,\n",
              "       4.82701850e-03, 9.69454240e-02, 7.09618260e-03, 5.45246733e-01,\n",
              "       8.06081256e-03, 3.24261393e-02, 4.55171326e-02, 9.85979837e-03,\n",
              "       7.23290921e-02, 1.70561547e-03, 6.04409979e-01, 2.64488678e-03,\n",
              "       2.96974328e-01, 8.48358514e-02, 2.79590155e-03, 4.94777192e-01,\n",
              "       2.00456892e-01, 3.39242331e-06, 1.61743001e-02, 2.61619022e-01,\n",
              "       3.05835620e-03, 1.36496164e-01, 5.00683377e-06, 1.35663657e-01,\n",
              "       4.56614556e-02, 5.22200512e-01, 1.28595519e-01, 1.30699619e-02,\n",
              "       2.13721943e-01, 1.55601050e-01, 1.47779633e-03, 5.59722879e-02,\n",
              "       1.64083391e-01, 8.86351290e-08, 1.56156541e-02, 7.84113086e-09,\n",
              "       3.71371032e-04, 3.15948113e-01, 3.57525049e-01, 1.87264392e-02,\n",
              "       1.57067988e-01, 4.22217058e-01, 4.07049562e-03, 5.86262220e-03,\n",
              "       1.32103710e-01, 7.75890435e-02, 1.29126398e-02, 2.87357648e-03,\n",
              "       3.50496248e-04, 9.04385444e-01, 3.67556767e-01, 4.18966335e-01,\n",
              "       9.32240038e-04, 4.28242580e-02, 2.57138152e-03, 3.04977267e-02,\n",
              "       5.01925477e-03, 4.79299470e-04, 4.61508393e-02, 3.53171791e-01,\n",
              "       1.31356629e-01, 2.20485082e-01, 2.74450438e-06, 6.85334132e-01,\n",
              "       4.35635498e-01, 1.32104921e-02, 4.21884749e-15, 4.54442227e-02,\n",
              "       5.78196476e-02, 2.69134756e-04, 3.93686686e-04, 2.03781769e-09,\n",
              "       9.87154722e-03, 4.08048471e-04, 2.88478715e-01, 5.33904923e-03,\n",
              "       7.37575868e-01, 1.35003132e-01, 1.35068914e-02, 6.65264679e-01,\n",
              "       2.34815253e-02, 1.19809912e-03, 1.75521058e-01, 8.37916722e-03,\n",
              "       1.38070792e-01, 1.15906023e-04, 1.71368105e-04, 4.15303570e-02,\n",
              "       2.68799695e-02, 5.25221919e-01, 1.12621548e-02, 3.24401363e-02,\n",
              "       4.06337938e-01, 2.40396614e-01, 5.27045652e-04, 6.14464040e-02,\n",
              "       1.83380683e-03, 1.07519187e-02, 9.73808696e-03, 4.27122169e-01,\n",
              "       2.29265575e-04, 7.43458213e-01, 1.64920561e-02, 6.47845184e-02,\n",
              "       8.68093654e-05, 3.52938158e-01, 9.26455456e-03, 2.34815253e-02,\n",
              "       1.38039423e-04, 2.60841111e-03, 3.98147264e-03, 3.00364790e-02,\n",
              "       3.25265360e-03, 4.80934551e-02, 3.23920123e-01, 1.18533633e-02,\n",
              "       6.92848600e-07, 1.89126681e-01, 3.31384426e-02, 4.50254100e-03,\n",
              "       3.37641746e-07, 5.81847537e-01, 4.23464487e-03, 2.31948904e-01,\n",
              "       2.00119972e-01, 1.11435069e-02, 3.94787544e-05, 3.60230354e-02,\n",
              "       5.27812991e-02, 3.87974748e-03, 1.70967977e-05, 3.52482109e-01,\n",
              "       8.53235723e-02, 4.91588234e-04, 9.18613325e-04, 8.70654481e-04,\n",
              "       1.47751370e-03, 1.42696728e-05, 5.53587510e-04, 3.85716986e-01,\n",
              "       4.64783486e-04, 2.86352142e-01, 1.34473410e-01, 4.62043676e-01,\n",
              "       2.25828715e-01, 6.90001727e-02, 2.32814293e-05, 4.13865120e-02,\n",
              "       3.13453038e-01, 3.71523637e-01, 4.80527700e-02, 3.95441130e-04,\n",
              "       6.79143321e-02, 2.97400852e-06, 1.00806130e-04, 5.68772489e-01,\n",
              "       2.33018097e-04, 1.21907828e-01, 7.07243295e-07, 6.13201007e-02,\n",
              "       2.73805084e-01, 8.17234156e-02, 9.42291920e-02, 3.96432375e-03,\n",
              "       8.10683584e-02, 1.32508673e-03, 9.88604900e-04, 4.29499261e-02,\n",
              "       6.83305122e-02, 4.51954882e-02, 2.24365324e-02, 2.56881644e-04,\n",
              "       5.20093457e-03, 7.58151911e-01, 6.07140243e-02, 7.38389002e-01,\n",
              "       8.60228135e-01, 2.71278192e-01, 7.34904264e-06, 5.36821621e-02])"
            ]
          },
          "metadata": {
            "tags": []
          },
          "execution_count": 102
        }
      ]
    },
    {
      "cell_type": "code",
      "metadata": {
        "id": "zcg5p01B4zQu",
        "outputId": "22303626-baa3-45be-c235-d0e0b773c251",
        "colab": {
          "base_uri": "https://localhost:8080/",
          "height": 388
        }
      },
      "source": [
        "ks_vals = Table()\n",
        "ks_vals = ks_vals.with_column(\"Column\", arr_features)\n",
        "ks_vals = ks_vals.with_columns(\"D\", pvals_D, \"p\", pvals_p)\n",
        "ks_vals"
      ],
      "execution_count": null,
      "outputs": [
        {
          "output_type": "execute_result",
          "data": {
            "text/html": [
              "<table border=\"1\" class=\"dataframe\">\n",
              "    <thead>\n",
              "        <tr>\n",
              "            <th>Column</th> <th>D</th> <th>p</th>\n",
              "        </tr>\n",
              "    </thead>\n",
              "    <tbody>\n",
              "        <tr>\n",
              "            <td>0     </td> <td>0.231033 </td> <td>2.16173e-06</td>\n",
              "        </tr>\n",
              "        <tr>\n",
              "            <td>1     </td> <td>0.120408 </td> <td>0.047108   </td>\n",
              "        </tr>\n",
              "        <tr>\n",
              "            <td>2     </td> <td>0.0985753</td> <td>0.15995    </td>\n",
              "        </tr>\n",
              "        <tr>\n",
              "            <td>3     </td> <td>0.23557  </td> <td>1.26264e-06</td>\n",
              "        </tr>\n",
              "        <tr>\n",
              "            <td>4     </td> <td>0.100208 </td> <td>0.146912   </td>\n",
              "        </tr>\n",
              "        <tr>\n",
              "            <td>5     </td> <td>0.142252 </td> <td>0.0108383  </td>\n",
              "        </tr>\n",
              "        <tr>\n",
              "            <td>6     </td> <td>0.08188  </td> <td>0.34482    </td>\n",
              "        </tr>\n",
              "        <tr>\n",
              "            <td>7     </td> <td>0.0688455</td> <td>0.560921   </td>\n",
              "        </tr>\n",
              "        <tr>\n",
              "            <td>8     </td> <td>0.138027 </td> <td>0.0146722  </td>\n",
              "        </tr>\n",
              "        <tr>\n",
              "            <td>9     </td> <td>0.086525 </td> <td>0.28228    </td>\n",
              "        </tr>\n",
              "    </tbody>\n",
              "</table>\n",
              "<p>... (190 rows omitted)</p>"
            ],
            "text/plain": [
              "Column | D         | p\n",
              "0      | 0.231033  | 2.16173e-06\n",
              "1      | 0.120408  | 0.047108\n",
              "2      | 0.0985753 | 0.15995\n",
              "3      | 0.23557   | 1.26264e-06\n",
              "4      | 0.100208  | 0.146912\n",
              "5      | 0.142252  | 0.0108383\n",
              "6      | 0.08188   | 0.34482\n",
              "7      | 0.0688455 | 0.560921\n",
              "8      | 0.138027  | 0.0146722\n",
              "9      | 0.086525  | 0.28228\n",
              "... (190 rows omitted)"
            ]
          },
          "metadata": {
            "tags": []
          },
          "execution_count": 111
        }
      ]
    },
    {
      "cell_type": "markdown",
      "metadata": {
        "id": "en5MhayT9Qy5"
      },
      "source": [
        "Feature Importances Based on Statistical Significance"
      ]
    },
    {
      "cell_type": "code",
      "metadata": {
        "id": "NiMqZXhvn5iN",
        "outputId": "57b287aa-5684-4c7a-98ac-dffa1b983405",
        "colab": {
          "base_uri": "https://localhost:8080/",
          "height": 238
        }
      },
      "source": [
        "test_feature(data_with_vectors, 1)"
      ],
      "execution_count": null,
      "outputs": [
        {
          "output_type": "stream",
          "text": [
            "/usr/local/lib/python3.6/dist-packages/pandas/core/indexing.py:845: SettingWithCopyWarning: \n",
            "A value is trying to be set on a copy of a slice from a DataFrame.\n",
            "Try using .loc[row_indexer,col_indexer] = value instead\n",
            "\n",
            "See the caveats in the documentation: https://pandas.pydata.org/pandas-docs/stable/user_guide/indexing.html#returning-a-view-versus-a-copy\n",
            "  self.obj[key] = _infer_fill_value(value)\n",
            "/usr/local/lib/python3.6/dist-packages/pandas/core/indexing.py:1048: SettingWithCopyWarning: \n",
            "A value is trying to be set on a copy of a slice from a DataFrame.\n",
            "Try using .loc[row_indexer,col_indexer] = value instead\n",
            "\n",
            "See the caveats in the documentation: https://pandas.pydata.org/pandas-docs/stable/user_guide/indexing.html#returning-a-view-versus-a-copy\n",
            "  self.obj[item_labels[indexer[info_axis]]] = value\n"
          ],
          "name": "stderr"
        },
        {
          "output_type": "execute_result",
          "data": {
            "text/plain": [
              "0.506"
            ]
          },
          "metadata": {
            "tags": []
          },
          "execution_count": 113
        }
      ]
    },
    {
      "cell_type": "code",
      "metadata": {
        "id": "1_2at5Zc7atA",
        "outputId": "74774d53-cd67-41ff-c34f-b205a2ed510a",
        "colab": {
          "base_uri": "https://localhost:8080/",
          "height": 612
        }
      },
      "source": [
        "test_features = list()\n",
        "for feat in arr_features:\n",
        "  val = test_feature(data_with_vectors, feat)\n",
        "  test_features = np.append(test_features, val)\n",
        "test_features"
      ],
      "execution_count": null,
      "outputs": [
        {
          "output_type": "stream",
          "text": [
            "/usr/local/lib/python3.6/dist-packages/pandas/core/indexing.py:845: SettingWithCopyWarning: \n",
            "A value is trying to be set on a copy of a slice from a DataFrame.\n",
            "Try using .loc[row_indexer,col_indexer] = value instead\n",
            "\n",
            "See the caveats in the documentation: https://pandas.pydata.org/pandas-docs/stable/user_guide/indexing.html#returning-a-view-versus-a-copy\n",
            "  self.obj[key] = _infer_fill_value(value)\n",
            "/usr/local/lib/python3.6/dist-packages/pandas/core/indexing.py:1048: SettingWithCopyWarning: \n",
            "A value is trying to be set on a copy of a slice from a DataFrame.\n",
            "Try using .loc[row_indexer,col_indexer] = value instead\n",
            "\n",
            "See the caveats in the documentation: https://pandas.pydata.org/pandas-docs/stable/user_guide/indexing.html#returning-a-view-versus-a-copy\n",
            "  self.obj[item_labels[indexer[info_axis]]] = value\n"
          ],
          "name": "stderr"
        },
        {
          "output_type": "execute_result",
          "data": {
            "text/plain": [
              "array([0.   , 0.517, 0.376, 0.   , 0.515, 0.012, 0.733, 0.535, 0.048,\n",
              "       0.663, 0.008, 0.023, 0.645, 0.276, 0.014, 0.022, 0.   , 0.119,\n",
              "       0.015, 0.609, 0.051, 0.563, 0.038, 0.545, 0.495, 0.599, 0.005,\n",
              "       0.139, 0.062, 0.009, 0.424, 0.011, 0.411, 0.003, 0.001, 0.562,\n",
              "       0.097, 0.   , 0.181, 0.261, 0.009, 0.504, 0.   , 0.121, 0.015,\n",
              "       0.638, 0.014, 0.001, 0.876, 0.072, 0.008, 0.38 , 0.158, 0.   ,\n",
              "       0.   , 0.   , 0.   , 0.229, 0.274, 0.01 , 0.054, 0.043, 0.045,\n",
              "       0.105, 0.068, 0.386, 0.002, 0.   , 0.035, 0.259, 0.588, 0.856,\n",
              "       0.009, 0.001, 0.   , 0.   , 0.   , 0.012, 0.444, 0.989, 0.305,\n",
              "       0.375, 0.001, 0.166, 0.957, 0.003, 0.   , 0.797, 0.131, 0.   ,\n",
              "       0.   , 0.   , 0.   , 0.   , 0.928, 0.07 , 0.435, 0.17 , 0.053,\n",
              "       0.947, 0.075, 0.011, 0.068, 0.024, 0.228, 0.   , 0.   , 0.008,\n",
              "       0.001, 0.194, 0.001, 0.075, 0.172, 0.087, 0.   , 0.114, 0.   ,\n",
              "       0.17 , 0.168, 0.544, 0.002, 0.917, 0.001, 0.202, 0.   , 0.111,\n",
              "       0.003, 0.336, 0.002, 0.09 , 0.003, 0.03 , 0.   , 0.722, 0.603,\n",
              "       0.211, 0.   , 0.829, 0.024, 0.005, 0.   , 0.202, 0.004, 0.874,\n",
              "       0.25 , 0.   , 0.004, 0.6  , 0.019, 0.134, 0.   , 0.737, 0.022,\n",
              "       0.   , 0.002, 0.   , 0.   , 0.   , 0.004, 0.953, 0.134, 0.03 ,\n",
              "       0.   , 0.078, 0.616, 0.209, 0.002, 0.238, 0.541, 0.65 , 0.048,\n",
              "       0.008, 0.339, 0.   , 0.004, 0.754, 0.005, 0.686, 0.   , 0.091,\n",
              "       0.024, 0.511, 0.084, 0.013, 0.423, 0.   , 0.   , 0.505, 0.296,\n",
              "       0.072, 0.235, 0.01 , 0.155, 0.794, 0.328, 0.911, 0.958, 0.787,\n",
              "       0.002, 0.183])"
            ]
          },
          "metadata": {
            "tags": []
          },
          "execution_count": 114
        }
      ]
    },
    {
      "cell_type": "code",
      "metadata": {
        "id": "uxnNZI4k7vWb",
        "outputId": "f8756985-cdac-4295-e9cb-4a6540853151",
        "colab": {
          "base_uri": "https://localhost:8080/",
          "height": 388
        }
      },
      "source": [
        "stat_sig = Table()\n",
        "stat_sig = stat_sig.with_columns(\"Column\", arr_features, \n",
        "                                 \"Test Feature\", test_features)\n",
        "stat_sig\n",
        "#above cell takes a while to run"
      ],
      "execution_count": null,
      "outputs": [
        {
          "output_type": "execute_result",
          "data": {
            "text/html": [
              "<table border=\"1\" class=\"dataframe\">\n",
              "    <thead>\n",
              "        <tr>\n",
              "            <th>Column</th> <th>Test Feature</th>\n",
              "        </tr>\n",
              "    </thead>\n",
              "    <tbody>\n",
              "        <tr>\n",
              "            <td>0     </td> <td>0           </td>\n",
              "        </tr>\n",
              "        <tr>\n",
              "            <td>1     </td> <td>0.517       </td>\n",
              "        </tr>\n",
              "        <tr>\n",
              "            <td>2     </td> <td>0.376       </td>\n",
              "        </tr>\n",
              "        <tr>\n",
              "            <td>3     </td> <td>0           </td>\n",
              "        </tr>\n",
              "        <tr>\n",
              "            <td>4     </td> <td>0.515       </td>\n",
              "        </tr>\n",
              "        <tr>\n",
              "            <td>5     </td> <td>0.012       </td>\n",
              "        </tr>\n",
              "        <tr>\n",
              "            <td>6     </td> <td>0.733       </td>\n",
              "        </tr>\n",
              "        <tr>\n",
              "            <td>7     </td> <td>0.535       </td>\n",
              "        </tr>\n",
              "        <tr>\n",
              "            <td>8     </td> <td>0.048       </td>\n",
              "        </tr>\n",
              "        <tr>\n",
              "            <td>9     </td> <td>0.663       </td>\n",
              "        </tr>\n",
              "    </tbody>\n",
              "</table>\n",
              "<p>... (190 rows omitted)</p>"
            ],
            "text/plain": [
              "Column | Test Feature\n",
              "0      | 0\n",
              "1      | 0.517\n",
              "2      | 0.376\n",
              "3      | 0\n",
              "4      | 0.515\n",
              "5      | 0.012\n",
              "6      | 0.733\n",
              "7      | 0.535\n",
              "8      | 0.048\n",
              "9      | 0.663\n",
              "... (190 rows omitted)"
            ]
          },
          "metadata": {
            "tags": []
          },
          "execution_count": 116
        }
      ]
    },
    {
      "cell_type": "code",
      "metadata": {
        "id": "04jp8rj7Akm7",
        "outputId": "83a980d4-ed46-4410-c57b-43ecfd1619b6",
        "colab": {
          "base_uri": "https://localhost:8080/",
          "height": 388
        }
      },
      "source": [
        "stat_sig.sort(\"Test Feature\", descending=True)"
      ],
      "execution_count": null,
      "outputs": [
        {
          "output_type": "execute_result",
          "data": {
            "text/html": [
              "<table border=\"1\" class=\"dataframe\">\n",
              "    <thead>\n",
              "        <tr>\n",
              "            <th>Column</th> <th>Test Feature</th>\n",
              "        </tr>\n",
              "    </thead>\n",
              "    <tbody>\n",
              "        <tr>\n",
              "            <td>79    </td> <td>0.989       </td>\n",
              "        </tr>\n",
              "        <tr>\n",
              "            <td>196   </td> <td>0.958       </td>\n",
              "        </tr>\n",
              "        <tr>\n",
              "            <td>84    </td> <td>0.957       </td>\n",
              "        </tr>\n",
              "        <tr>\n",
              "            <td>159   </td> <td>0.953       </td>\n",
              "        </tr>\n",
              "        <tr>\n",
              "            <td>99    </td> <td>0.947       </td>\n",
              "        </tr>\n",
              "        <tr>\n",
              "            <td>94    </td> <td>0.928       </td>\n",
              "        </tr>\n",
              "        <tr>\n",
              "            <td>121   </td> <td>0.917       </td>\n",
              "        </tr>\n",
              "        <tr>\n",
              "            <td>195   </td> <td>0.911       </td>\n",
              "        </tr>\n",
              "        <tr>\n",
              "            <td>48    </td> <td>0.876       </td>\n",
              "        </tr>\n",
              "        <tr>\n",
              "            <td>143   </td> <td>0.874       </td>\n",
              "        </tr>\n",
              "    </tbody>\n",
              "</table>\n",
              "<p>... (190 rows omitted)</p>"
            ],
            "text/plain": [
              "Column | Test Feature\n",
              "79     | 0.989\n",
              "196    | 0.958\n",
              "84     | 0.957\n",
              "159    | 0.953\n",
              "99     | 0.947\n",
              "94     | 0.928\n",
              "121    | 0.917\n",
              "195    | 0.911\n",
              "48     | 0.876\n",
              "143    | 0.874\n",
              "... (190 rows omitted)"
            ]
          },
          "metadata": {
            "tags": []
          },
          "execution_count": 119
        }
      ]
    }
  ]
}